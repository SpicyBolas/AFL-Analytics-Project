{
 "cells": [
  {
   "cell_type": "code",
   "execution_count": 1,
   "id": "b34499d3",
   "metadata": {},
   "outputs": [],
   "source": [
    "import pandas as pd\n",
    "import numpy as np\n",
    "import matplotlib.pyplot as plt\n",
    "import seaborn as sns\n",
    "import re"
   ]
  },
  {
   "cell_type": "markdown",
   "id": "deafe6cc",
   "metadata": {},
   "source": [
    "# Approach 1: Top Down (Average Team Stats and attach to the Match Data) "
   ]
  },
  {
   "cell_type": "markdown",
   "id": "e90bb5c3",
   "metadata": {},
   "source": [
    "## Load in and Prepare the Player Data"
   ]
  },
  {
   "cell_type": "code",
   "execution_count": 2,
   "id": "17b5c29d",
   "metadata": {},
   "outputs": [
    {
     "data": {
      "text/html": [
       "<div>\n",
       "<style scoped>\n",
       "    .dataframe tbody tr th:only-of-type {\n",
       "        vertical-align: middle;\n",
       "    }\n",
       "\n",
       "    .dataframe tbody tr th {\n",
       "        vertical-align: top;\n",
       "    }\n",
       "\n",
       "    .dataframe thead th {\n",
       "        text-align: right;\n",
       "    }\n",
       "</style>\n",
       "<table border=\"1\" class=\"dataframe\">\n",
       "  <thead>\n",
       "    <tr style=\"text-align: right;\">\n",
       "      <th></th>\n",
       "      <th>Player</th>\n",
       "      <th>Position</th>\n",
       "      <th>T</th>\n",
       "      <th>Ti50</th>\n",
       "      <th>PA</th>\n",
       "      <th>DHPA</th>\n",
       "      <th>S</th>\n",
       "      <th>CDOOO</th>\n",
       "      <th>CDL</th>\n",
       "      <th>CDL%</th>\n",
       "      <th>...</th>\n",
       "      <th>SI</th>\n",
       "      <th>SL</th>\n",
       "      <th>CC</th>\n",
       "      <th>SC</th>\n",
       "      <th>HTA</th>\n",
       "      <th>HTW%</th>\n",
       "      <th>HTA%</th>\n",
       "      <th>RC</th>\n",
       "      <th>lPlayer</th>\n",
       "      <th>Team</th>\n",
       "    </tr>\n",
       "  </thead>\n",
       "  <tbody>\n",
       "    <tr>\n",
       "      <th>0</th>\n",
       "      <td>Joel Corey</td>\n",
       "      <td>MID</td>\n",
       "      <td>12</td>\n",
       "      <td>0</td>\n",
       "      <td>24</td>\n",
       "      <td>11</td>\n",
       "      <td>0</td>\n",
       "      <td>0</td>\n",
       "      <td>0</td>\n",
       "      <td>0.0</td>\n",
       "      <td>...</td>\n",
       "      <td>3</td>\n",
       "      <td>1</td>\n",
       "      <td>2</td>\n",
       "      <td>2</td>\n",
       "      <td>0</td>\n",
       "      <td>0.0</td>\n",
       "      <td>0.0</td>\n",
       "      <td>0</td>\n",
       "      <td>joel corey</td>\n",
       "      <td>Geelong</td>\n",
       "    </tr>\n",
       "    <tr>\n",
       "      <th>1</th>\n",
       "      <td>Michael Barlow</td>\n",
       "      <td>MID</td>\n",
       "      <td>11</td>\n",
       "      <td>3</td>\n",
       "      <td>27</td>\n",
       "      <td>14</td>\n",
       "      <td>2</td>\n",
       "      <td>0</td>\n",
       "      <td>0</td>\n",
       "      <td>0.0</td>\n",
       "      <td>...</td>\n",
       "      <td>4</td>\n",
       "      <td>0</td>\n",
       "      <td>1</td>\n",
       "      <td>1</td>\n",
       "      <td>0</td>\n",
       "      <td>0.0</td>\n",
       "      <td>0.0</td>\n",
       "      <td>0</td>\n",
       "      <td>michael barlow</td>\n",
       "      <td>Fremantle</td>\n",
       "    </tr>\n",
       "    <tr>\n",
       "      <th>2</th>\n",
       "      <td>Jimmy Bartel</td>\n",
       "      <td>MID</td>\n",
       "      <td>8</td>\n",
       "      <td>1</td>\n",
       "      <td>17</td>\n",
       "      <td>9</td>\n",
       "      <td>1</td>\n",
       "      <td>0</td>\n",
       "      <td>0</td>\n",
       "      <td>0.0</td>\n",
       "      <td>...</td>\n",
       "      <td>4</td>\n",
       "      <td>0</td>\n",
       "      <td>1</td>\n",
       "      <td>4</td>\n",
       "      <td>0</td>\n",
       "      <td>0.0</td>\n",
       "      <td>0.0</td>\n",
       "      <td>0</td>\n",
       "      <td>jimmy bartel</td>\n",
       "      <td>Geelong</td>\n",
       "    </tr>\n",
       "    <tr>\n",
       "      <th>3</th>\n",
       "      <td>Paul Chapman</td>\n",
       "      <td>FWD</td>\n",
       "      <td>8</td>\n",
       "      <td>3</td>\n",
       "      <td>20</td>\n",
       "      <td>5</td>\n",
       "      <td>2</td>\n",
       "      <td>0</td>\n",
       "      <td>0</td>\n",
       "      <td>0.0</td>\n",
       "      <td>...</td>\n",
       "      <td>3</td>\n",
       "      <td>1</td>\n",
       "      <td>1</td>\n",
       "      <td>3</td>\n",
       "      <td>0</td>\n",
       "      <td>0.0</td>\n",
       "      <td>0.0</td>\n",
       "      <td>0</td>\n",
       "      <td>paul chapman</td>\n",
       "      <td>Geelong</td>\n",
       "    </tr>\n",
       "    <tr>\n",
       "      <th>4</th>\n",
       "      <td>Chris Mayne</td>\n",
       "      <td>FWD</td>\n",
       "      <td>8</td>\n",
       "      <td>4</td>\n",
       "      <td>19</td>\n",
       "      <td>8</td>\n",
       "      <td>0</td>\n",
       "      <td>0</td>\n",
       "      <td>0</td>\n",
       "      <td>0.0</td>\n",
       "      <td>...</td>\n",
       "      <td>2</td>\n",
       "      <td>1</td>\n",
       "      <td>0</td>\n",
       "      <td>0</td>\n",
       "      <td>0</td>\n",
       "      <td>0.0</td>\n",
       "      <td>0.0</td>\n",
       "      <td>0</td>\n",
       "      <td>chris mayne</td>\n",
       "      <td>Fremantle</td>\n",
       "    </tr>\n",
       "    <tr>\n",
       "      <th>...</th>\n",
       "      <td>...</td>\n",
       "      <td>...</td>\n",
       "      <td>...</td>\n",
       "      <td>...</td>\n",
       "      <td>...</td>\n",
       "      <td>...</td>\n",
       "      <td>...</td>\n",
       "      <td>...</td>\n",
       "      <td>...</td>\n",
       "      <td>...</td>\n",
       "      <td>...</td>\n",
       "      <td>...</td>\n",
       "      <td>...</td>\n",
       "      <td>...</td>\n",
       "      <td>...</td>\n",
       "      <td>...</td>\n",
       "      <td>...</td>\n",
       "      <td>...</td>\n",
       "      <td>...</td>\n",
       "      <td>...</td>\n",
       "      <td>...</td>\n",
       "    </tr>\n",
       "    <tr>\n",
       "      <th>111116</th>\n",
       "      <td>Bobby Hill</td>\n",
       "      <td>FWD</td>\n",
       "      <td>1</td>\n",
       "      <td>0</td>\n",
       "      <td>17</td>\n",
       "      <td>1</td>\n",
       "      <td>0</td>\n",
       "      <td>0</td>\n",
       "      <td>0</td>\n",
       "      <td>0.0</td>\n",
       "      <td>...</td>\n",
       "      <td>5</td>\n",
       "      <td>1</td>\n",
       "      <td>1</td>\n",
       "      <td>1</td>\n",
       "      <td>0</td>\n",
       "      <td>0.0</td>\n",
       "      <td>0.0</td>\n",
       "      <td>0</td>\n",
       "      <td>bobby hill</td>\n",
       "      <td>Greater Western Sydney</td>\n",
       "    </tr>\n",
       "    <tr>\n",
       "      <th>111117</th>\n",
       "      <td>Bobby Hill</td>\n",
       "      <td>FWD</td>\n",
       "      <td>4</td>\n",
       "      <td>1</td>\n",
       "      <td>13</td>\n",
       "      <td>3</td>\n",
       "      <td>1</td>\n",
       "      <td>0</td>\n",
       "      <td>0</td>\n",
       "      <td>0.0</td>\n",
       "      <td>...</td>\n",
       "      <td>2</td>\n",
       "      <td>1</td>\n",
       "      <td>0</td>\n",
       "      <td>0</td>\n",
       "      <td>0</td>\n",
       "      <td>0.0</td>\n",
       "      <td>0.0</td>\n",
       "      <td>0</td>\n",
       "      <td>bobby hill</td>\n",
       "      <td>Greater Western Sydney</td>\n",
       "    </tr>\n",
       "    <tr>\n",
       "      <th>111118</th>\n",
       "      <td>Bobby Hill</td>\n",
       "      <td>FWD</td>\n",
       "      <td>3</td>\n",
       "      <td>1</td>\n",
       "      <td>22</td>\n",
       "      <td>11</td>\n",
       "      <td>0</td>\n",
       "      <td>0</td>\n",
       "      <td>0</td>\n",
       "      <td>0.0</td>\n",
       "      <td>...</td>\n",
       "      <td>5</td>\n",
       "      <td>0</td>\n",
       "      <td>0</td>\n",
       "      <td>0</td>\n",
       "      <td>0</td>\n",
       "      <td>0.0</td>\n",
       "      <td>0.0</td>\n",
       "      <td>0</td>\n",
       "      <td>bobby hill</td>\n",
       "      <td>Greater Western Sydney</td>\n",
       "    </tr>\n",
       "    <tr>\n",
       "      <th>111119</th>\n",
       "      <td>Bobby Hill</td>\n",
       "      <td>FWD</td>\n",
       "      <td>4</td>\n",
       "      <td>0</td>\n",
       "      <td>17</td>\n",
       "      <td>9</td>\n",
       "      <td>1</td>\n",
       "      <td>0</td>\n",
       "      <td>0</td>\n",
       "      <td>0.0</td>\n",
       "      <td>...</td>\n",
       "      <td>4</td>\n",
       "      <td>0</td>\n",
       "      <td>0</td>\n",
       "      <td>0</td>\n",
       "      <td>0</td>\n",
       "      <td>0.0</td>\n",
       "      <td>0.0</td>\n",
       "      <td>0</td>\n",
       "      <td>bobby hill</td>\n",
       "      <td>Greater Western Sydney</td>\n",
       "    </tr>\n",
       "    <tr>\n",
       "      <th>111120</th>\n",
       "      <td>Angus Litherland</td>\n",
       "      <td>DEF</td>\n",
       "      <td>3</td>\n",
       "      <td>0</td>\n",
       "      <td>8</td>\n",
       "      <td>7</td>\n",
       "      <td>5</td>\n",
       "      <td>1</td>\n",
       "      <td>0</td>\n",
       "      <td>0.0</td>\n",
       "      <td>...</td>\n",
       "      <td>2</td>\n",
       "      <td>1</td>\n",
       "      <td>0</td>\n",
       "      <td>0</td>\n",
       "      <td>0</td>\n",
       "      <td>0.0</td>\n",
       "      <td>0.0</td>\n",
       "      <td>0</td>\n",
       "      <td>angus litherland</td>\n",
       "      <td>West Coast</td>\n",
       "    </tr>\n",
       "  </tbody>\n",
       "</table>\n",
       "<p>109919 rows × 56 columns</p>\n",
       "</div>"
      ],
      "text/plain": [
       "                  Player Position   T  Ti50  PA  DHPA  S  CDOOO  CDL  CDL%  \\\n",
       "0             Joel Corey      MID  12     0  24    11  0      0    0   0.0   \n",
       "1         Michael Barlow      MID  11     3  27    14  2      0    0   0.0   \n",
       "2           Jimmy Bartel      MID   8     1  17     9  1      0    0   0.0   \n",
       "3           Paul Chapman      FWD   8     3  20     5  2      0    0   0.0   \n",
       "4            Chris Mayne      FWD   8     4  19     8  0      0    0   0.0   \n",
       "...                  ...      ...  ..   ...  ..   ... ..    ...  ...   ...   \n",
       "111116        Bobby Hill      FWD   1     0  17     1  0      0    0   0.0   \n",
       "111117        Bobby Hill      FWD   4     1  13     3  1      0    0   0.0   \n",
       "111118        Bobby Hill      FWD   3     1  22    11  0      0    0   0.0   \n",
       "111119        Bobby Hill      FWD   4     0  17     9  1      0    0   0.0   \n",
       "111120  Angus Litherland      DEF   3     0   8     7  5      1    0   0.0   \n",
       "\n",
       "        ...  SI SL  CC  SC  HTA  HTW%  HTA%  RC           lPlayer  \\\n",
       "0       ...   3  1   2   2    0   0.0   0.0   0        joel corey   \n",
       "1       ...   4  0   1   1    0   0.0   0.0   0    michael barlow   \n",
       "2       ...   4  0   1   4    0   0.0   0.0   0      jimmy bartel   \n",
       "3       ...   3  1   1   3    0   0.0   0.0   0      paul chapman   \n",
       "4       ...   2  1   0   0    0   0.0   0.0   0       chris mayne   \n",
       "...     ...  .. ..  ..  ..  ...   ...   ...  ..               ...   \n",
       "111116  ...   5  1   1   1    0   0.0   0.0   0        bobby hill   \n",
       "111117  ...   2  1   0   0    0   0.0   0.0   0        bobby hill   \n",
       "111118  ...   5  0   0   0    0   0.0   0.0   0        bobby hill   \n",
       "111119  ...   4  0   0   0    0   0.0   0.0   0        bobby hill   \n",
       "111120  ...   2  1   0   0    0   0.0   0.0   0  angus litherland   \n",
       "\n",
       "                          Team  \n",
       "0                      Geelong  \n",
       "1                    Fremantle  \n",
       "2                      Geelong  \n",
       "3                      Geelong  \n",
       "4                    Fremantle  \n",
       "...                        ...  \n",
       "111116  Greater Western Sydney  \n",
       "111117  Greater Western Sydney  \n",
       "111118  Greater Western Sydney  \n",
       "111119  Greater Western Sydney  \n",
       "111120              West Coast  \n",
       "\n",
       "[109919 rows x 56 columns]"
      ]
     },
     "execution_count": 2,
     "metadata": {},
     "output_type": "execute_result"
    }
   ],
   "source": [
    "#Load in the player data\n",
    "df_players = pd.read_csv('../data/PlayerData_v1.csv',index_col=0)\n",
    "df_players"
   ]
  },
  {
   "cell_type": "code",
   "execution_count": 3,
   "id": "f417b453",
   "metadata": {},
   "outputs": [],
   "source": [
    "#Remove the 'lPlayer' column, City and any rows with ToG% == 0 and pre 2024\n",
    "df_players.drop('lPlayer',axis=1,inplace=True)\n",
    "df_players = df_players[(df_players['ToG%']>0)&(df_players['Season']<2024)]"
   ]
  },
  {
   "cell_type": "code",
   "execution_count": null,
   "id": "c4be8638",
   "metadata": {},
   "outputs": [],
   "source": [
    "df_players"
   ]
  },
  {
   "cell_type": "code",
   "execution_count": null,
   "id": "52c3f3e1",
   "metadata": {},
   "outputs": [],
   "source": [
    "#Remove plural 's' from 'Round' Column\n",
    "df_players.loc[:,'Round'] = df_players['Round'].str.replace(r's$','',regex=True) "
   ]
  },
  {
   "cell_type": "code",
   "execution_count": null,
   "id": "84924be3",
   "metadata": {},
   "outputs": [],
   "source": [
    "df_players['Round'].unique()"
   ]
  },
  {
   "cell_type": "markdown",
   "id": "a399a3b6",
   "metadata": {},
   "source": [
    "## Load in and Prepare the Match Data"
   ]
  },
  {
   "cell_type": "code",
   "execution_count": null,
   "id": "d518ddab",
   "metadata": {},
   "outputs": [],
   "source": [
    "#Load in the match data\n",
    "df_matches = pd.read_csv('../data/MatchData_v2.csv',index_col=0)\n",
    "#Remove 'City'\n",
    "df_matches.drop('City',axis=1,inplace=True)\n",
    "#Covert weather data into floats\n",
    "weather_cols = ['Max Temp (C)','Min Temp (C)','Max Humid (%)','Min Humid (%)','Wind Speed (m/s)',\\\n",
    "                'Solar Rad (MJ/sq m)','Rain (mm)']\n",
    "df_matches[weather_cols] = df_matches[weather_cols].apply(pd.to_numeric,errors='coerce')"
   ]
  },
  {
   "cell_type": "code",
   "execution_count": null,
   "id": "42feb305",
   "metadata": {},
   "outputs": [],
   "source": [
    "#Keep only pre 2024\n",
    "df_matches = df_matches[df_matches['Season']<2024] "
   ]
  },
  {
   "cell_type": "code",
   "execution_count": null,
   "id": "2be9d545",
   "metadata": {},
   "outputs": [],
   "source": [
    "df_matches['Round'].unique()"
   ]
  },
  {
   "cell_type": "code",
   "execution_count": null,
   "id": "76d871f4",
   "metadata": {},
   "outputs": [],
   "source": [
    "#Commonise the 'Round' Column\n",
    "df_matches.loc[(df_matches['Round']=='Qualifying Final')|(df_matches['Round']=='Elimination Final'),'Round'] = 'Finals Week 1'"
   ]
  },
  {
   "cell_type": "markdown",
   "id": "09e3ae2b",
   "metadata": {},
   "source": [
    "## Aggregate player data and join onto the Match Data"
   ]
  },
  {
   "cell_type": "code",
   "execution_count": null,
   "id": "00fad6f1",
   "metadata": {},
   "outputs": [],
   "source": [
    "#Extract only ther numeric columns\n",
    "numerics = ['int16', 'int32', 'int64', 'float16', 'float32', 'float64']\n",
    "num_cols = list(df_players.select_dtypes(include=numerics).columns)\n",
    "#Append Round and Team\n",
    "num_cols.append('Round')\n",
    "num_cols.append('Team')"
   ]
  },
  {
   "cell_type": "code",
   "execution_count": null,
   "id": "ad6e7686",
   "metadata": {},
   "outputs": [],
   "source": [
    "#Keep only numeric and aggregation variables\n",
    "df_play_num = df_players[num_cols]"
   ]
  },
  {
   "cell_type": "markdown",
   "id": "a8972e67",
   "metadata": {},
   "source": [
    "## NOTE: May have to approach some values (such as num goals) with sum instead of mean"
   ]
  },
  {
   "cell_type": "code",
   "execution_count": null,
   "id": "6fca6911",
   "metadata": {},
   "outputs": [],
   "source": [
    "df_play_agg = df_play_num.groupby(['Season','Round','Team']).agg('mean').reset_index()"
   ]
  },
  {
   "cell_type": "markdown",
   "id": "f26c5ceb",
   "metadata": {},
   "source": [
    "### Join to match data"
   ]
  },
  {
   "cell_type": "code",
   "execution_count": null,
   "id": "d6717e37",
   "metadata": {},
   "outputs": [],
   "source": [
    "#Join on team data\n",
    "df_matches_v2 = df_matches.merge(df_play_agg,on=['Season','Round','Team'],how='left')\n",
    "#Join on opponent data\n",
    "df_matches_v2 = df_matches_v2.merge(df_play_agg,left_on=['Season','Round','Opponent'],right_on=['Season','Round','Team'],\\\n",
    "                                 how='left',suffixes=('_team','_opp'))\n",
    "#Rename Team_team to Team and drop Team_opp\n",
    "df_matches_v2.rename(columns={'Team_team':'Team'},inplace=True)\n",
    "df_matches_v2.drop('Team_opp',axis=1,inplace=True)"
   ]
  },
  {
   "cell_type": "code",
   "execution_count": null,
   "id": "69c17a5f",
   "metadata": {},
   "outputs": [],
   "source": [
    "#Rename Round for ease of sorting\n",
    "round_dict = {'Finals Week 1':25,'Semi Final':26,'Preliminary Final':27,\\\n",
    "             'Grand Final':28}\n",
    "#Define function to change values based on dict\n",
    "def rename_round(x):\n",
    "    if x in list(round_dict.keys()):\n",
    "        return round_dict[x]\n",
    "    else:\n",
    "        return int(re.search(r'(\\d+)',x)[0])"
   ]
  },
  {
   "cell_type": "code",
   "execution_count": null,
   "id": "e5d8e881",
   "metadata": {},
   "outputs": [],
   "source": [
    "df_matches_v2"
   ]
  },
  {
   "cell_type": "code",
   "execution_count": null,
   "id": "0c696657",
   "metadata": {},
   "outputs": [],
   "source": [
    "#Apply changes to round names\n",
    "df_matches_v2['RoundNum'] = df_matches_v2['Round'].apply(rename_round) "
   ]
  },
  {
   "cell_type": "code",
   "execution_count": null,
   "id": "be0f932f",
   "metadata": {},
   "outputs": [],
   "source": [
    "#Sort Match data by Team, Season, Round\n",
    "with pd.option_context('display.max_row',None):\n",
    "    print(df_matches_v2.sort_values(['Team','Season','RoundNum'])[['Team','Season','Round']])"
   ]
  },
  {
   "cell_type": "code",
   "execution_count": null,
   "id": "593e3f49",
   "metadata": {},
   "outputs": [],
   "source": [
    "df_matches_v2 = df_matches_v2.sort_values(['Team','Season','RoundNum'])"
   ]
  },
  {
   "cell_type": "markdown",
   "id": "2ff4c0ce",
   "metadata": {},
   "source": [
    "## Extract all columns with _team or _opp and attendacne and lag them by 3"
   ]
  },
  {
   "cell_type": "code",
   "execution_count": null,
   "id": "9c497d62",
   "metadata": {},
   "outputs": [],
   "source": [
    "df_team_stats = df_matches_v2.filter(regex=(\".+_opp|.+_team\"))\n",
    "df_team_stats = pd.concat([df_team_stats,df_matches_v2['Attendance']],axis=1)"
   ]
  },
  {
   "cell_type": "code",
   "execution_count": null,
   "id": "1dd214f1",
   "metadata": {},
   "outputs": [],
   "source": [
    "#Try the last 3 matches as predictors\n",
    "num_lags = 3\n",
    "for i in range(num_lags):\n",
    "    #Lag the stats\n",
    "    df_team_temp = df_team_stats.shift(i+1)\n",
    "    #Get the column names\n",
    "    cols = df_team_temp.columns.to_list()\n",
    "    #Define new column names with lag number as suffix\n",
    "    new_cols = [col+str(i+1) for col in cols]\n",
    "    df_team_temp.columns = new_cols\n",
    "    #Concatenate with the match data\n",
    "    df_matches_v2 = pd.concat([df_matches_v2,df_team_temp],axis=1)"
   ]
  },
  {
   "cell_type": "code",
   "execution_count": null,
   "id": "96eb5e4b",
   "metadata": {},
   "outputs": [],
   "source": [
    "#Remove the present match stats from the dataframe\n",
    "present_cols = df_matches_v2.filter(regex=(\".+_opp$|.+_team$\")).columns.to_list()\n",
    "#add Attendance to the list\n",
    "present_cols.append('Attendance')\n",
    "#Drop from the data\n",
    "df_matches_v2.drop(present_cols,axis=1,inplace=True)"
   ]
  },
  {
   "cell_type": "code",
   "execution_count": null,
   "id": "b698dc5c",
   "metadata": {},
   "outputs": [],
   "source": [
    "#Remove 2012 Round 1-3 to remove NAN values\n",
    "df_matches_v3 = df_matches_v2[~((df_matches_v2['Season']==2012)&(df_matches_v2['Round'].isin(['Round 1','Round 2','Round 3'])))]"
   ]
  },
  {
   "cell_type": "markdown",
   "id": "91f0711b",
   "metadata": {},
   "source": [
    "## Check and impute missing values"
   ]
  },
  {
   "cell_type": "code",
   "execution_count": null,
   "id": "09c03805",
   "metadata": {},
   "outputs": [],
   "source": [
    "with pd.option_context('display.max_row',None):\n",
    "    print(df_matches_v3.isna().sum())"
   ]
  },
  {
   "cell_type": "markdown",
   "id": "b764848e",
   "metadata": {},
   "source": [
    "We have seen previously that missing attendance is associated with the COVID period. We will set the missings to 0. As for missing weather information, we will assume 0 rainfall and impute with average values in the others."
   ]
  },
  {
   "cell_type": "code",
   "execution_count": null,
   "id": "19bdaee9",
   "metadata": {},
   "outputs": [],
   "source": [
    "#Fill na with 0 for Rain (mm) and Attendance\n",
    "df_matches_v3.loc[:,['Rain (mm)','Attendance1','Attendance2','Attendance3']] = df_matches_v3[['Rain (mm)','Attendance1','Attendance2','Attendance3']].fillna(0.0)\n",
    "#Fill remaining with means\n",
    "impute_cols = ['Max Temp (C)','Min Temp (C)','Max Humid (%)','Min Humid (%)','Wind Speed (m/s)','Solar Rad (MJ/sq m)']\n",
    "df_matches_v3.loc[:,impute_cols] = df_matches_v3[impute_cols].fillna(df_matches_v3[impute_cols].mean()) "
   ]
  },
  {
   "cell_type": "markdown",
   "id": "7ce136ee",
   "metadata": {},
   "source": [
    "### Final Analysis Version Data: "
   ]
  },
  {
   "cell_type": "code",
   "execution_count": null,
   "id": "ad964924",
   "metadata": {},
   "outputs": [],
   "source": [
    "df_matches_v3"
   ]
  },
  {
   "cell_type": "markdown",
   "id": "5b205f76",
   "metadata": {},
   "source": [
    "### Remove Non Predictors"
   ]
  },
  {
   "cell_type": "code",
   "execution_count": null,
   "id": "92b4a68a",
   "metadata": {},
   "outputs": [],
   "source": [
    "#Remover the time based data and points for and against at present match\n",
    "#Remove Season later after separating into IT/OOT\n",
    "df_ML = df_matches_v3.drop(['PointsF','PointsA','Round','Date','RoundNum'],axis=1)"
   ]
  },
  {
   "cell_type": "markdown",
   "id": "a2135c9f",
   "metadata": {},
   "source": [
    "## Pre Encoding Preprocessing"
   ]
  },
  {
   "cell_type": "code",
   "execution_count": null,
   "id": "10bc6206",
   "metadata": {},
   "outputs": [],
   "source": [
    "from sklearn.model_selection import train_test_split"
   ]
  },
  {
   "cell_type": "code",
   "execution_count": null,
   "id": "d2f142be",
   "metadata": {},
   "outputs": [],
   "source": [
    "def split_preprocess(data):\n",
    "    data_IT = data[data['Season']<=2019]\n",
    "    data_OOT = data[data['Season']>2019]\n",
    "    #Get the dependent variable\n",
    "    y = data_IT.pop('Outcome')\n",
    "    #Split the in time data, stratify by outcome and shuffle\n",
    "    X_train, X_test, y_train, y_test = train_test_split(data_IT,y,test_size=0.3,shuffle=True,random_state=5432,stratify=y)\n",
    "    #Return the split data\n",
    "    return data_IT, data_OOT, X_train, X_test, y_train, y_test"
   ]
  },
  {
   "cell_type": "markdown",
   "id": "368d8a79",
   "metadata": {},
   "source": [
    "### Encode Categorical Data"
   ]
  },
  {
   "cell_type": "code",
   "execution_count": null,
   "id": "eec510ec",
   "metadata": {},
   "outputs": [],
   "source": [
    "#Identify and remove the object data and convert to category\n",
    "df_categories = df_ML.select_dtypes(include=['object']).astype('category')\n",
    "cat_cols = df_categories.columns\n",
    "#Remove from the ML data to join back on later\n",
    "df_ML.drop(cat_cols,axis=1,inplace=True)\n",
    "#One Hot Encode the categories\n",
    "df_categories = pd.get_dummies(df_categories,dtype=int)\n",
    "#Join back on to the df_ML data\n",
    "df_ML = df_ML.join(df_categories)"
   ]
  },
  {
   "cell_type": "markdown",
   "id": "61fa5894",
   "metadata": {},
   "source": [
    "### Separate into in Time and OOT"
   ]
  },
  {
   "cell_type": "code",
   "execution_count": null,
   "id": "394cd8e2",
   "metadata": {},
   "outputs": [],
   "source": [
    "df_ML_IT, df_ML_OOT, X_train, X_test, y_train, y_test = split_preprocess(df_ML)\n",
    "#Drop season from all the data\n",
    "df_ML_IT = df_ML_IT.drop('Season',axis=1)\n",
    "df_ML_OOT = df_ML_OOT.drop('Season',axis=1)\n",
    "X_train.drop('Season',axis=1,inplace=True)\n",
    "X_test.drop('Season',axis=1,inplace=True)"
   ]
  },
  {
   "cell_type": "code",
   "execution_count": null,
   "id": "4bd0c7fc",
   "metadata": {},
   "outputs": [],
   "source": [
    "#Extract Feature names for diagnostics\n",
    "feature_names = df_ML_IT.columns.to_list()"
   ]
  },
  {
   "cell_type": "markdown",
   "id": "24b52a5a",
   "metadata": {},
   "source": [
    "## Variable Importance"
   ]
  },
  {
   "cell_type": "markdown",
   "id": "bee7d063",
   "metadata": {},
   "source": [
    "Note that variable importance here is specific to the model we produce with RF. As such, if the model is bad, the feature selection may be useless. Only consider these results in parrallel to the model performance and with other measures such as IVs."
   ]
  },
  {
   "cell_type": "code",
   "execution_count": null,
   "id": "457fb013",
   "metadata": {},
   "outputs": [],
   "source": [
    "#Import random forest for variable importance\n",
    "from sklearn.ensemble import RandomForestClassifier\n",
    "#Set up model\n",
    "forest = RandomForestClassifier(random_state=5432)\n",
    "#Fit the model\n",
    "forest.fit(X_train,y_train)"
   ]
  },
  {
   "cell_type": "markdown",
   "id": "6f0e3420",
   "metadata": {},
   "source": [
    "#### Check performance on test data"
   ]
  },
  {
   "cell_type": "code",
   "execution_count": null,
   "id": "fb040a63",
   "metadata": {},
   "outputs": [],
   "source": [
    "y_pred = forest.predict(X_test)\n",
    "\n",
    "confusion_matrix = pd.crosstab(y_test,y_pred,rownames=['Actual'],colnames=['Pred'])"
   ]
  },
  {
   "cell_type": "code",
   "execution_count": null,
   "id": "2628470e",
   "metadata": {},
   "outputs": [],
   "source": [
    "confusion_matrix"
   ]
  },
  {
   "cell_type": "markdown",
   "id": "f3f3cf04",
   "metadata": {},
   "source": [
    "**Definitions Reminder:**\n",
    "\n",
    "- Precision: %Predicted wins that were actually wins.\n",
    "- Recall: %Wins that were predicted\n",
    "\n",
    "We want to be sure the predicted wins are correct, precision should be our target metric."
   ]
  },
  {
   "cell_type": "code",
   "execution_count": null,
   "id": "ff41f279",
   "metadata": {},
   "outputs": [],
   "source": [
    "acc = np.trace(confusion_matrix)/confusion_matrix.sum()\n",
    "prec = confusion_matrix.loc[1,1]/confusion_matrix.loc[:,1].sum()\n",
    "rec = confusion_matrix.loc[1,1]/confusion_matrix.loc[1,:].sum()\n",
    "\n",
    "print('Accuracy: ',acc,'\\nPrecision: ',prec*100,'\\nRecall: ',rec*100)"
   ]
  },
  {
   "cell_type": "markdown",
   "id": "e2e7a8ef",
   "metadata": {},
   "source": [
    "Results aren't fantastic, so take the following importances with a grain of salt."
   ]
  },
  {
   "cell_type": "code",
   "execution_count": null,
   "id": "423db2e4",
   "metadata": {},
   "outputs": [],
   "source": [
    "importances = pd.Series(forest.feature_importances_,index=feature_names)\n",
    "importances = importances.sort_values(ascending=False)\n",
    "#Plot the importances\n",
    "fig, ax = plt.subplots(figsize=(10,5))\n",
    "importances[0:50].plot.bar(ax=ax)\n",
    "ax.set_title('Feature importance')\n",
    "ax.set_ylabel('Mean accuracy decrease')\n",
    "fig.tight_layout()\n",
    "plt.show()"
   ]
  },
  {
   "cell_type": "code",
   "execution_count": null,
   "id": "5b77acd4",
   "metadata": {},
   "outputs": [],
   "source": [
    "with pd.option_context('display.max_row',None):\n",
    "    print(importances)"
   ]
  },
  {
   "cell_type": "markdown",
   "id": "f4fe212b",
   "metadata": {},
   "source": [
    "### Player Stats"
   ]
  },
  {
   "cell_type": "markdown",
   "id": "28e456d3",
   "metadata": {},
   "source": [
    "At a glance it appears **SI** (Score Involvement), **SL** (Score Launches), **R** (Rating Points), **DHPA** (defensive half pressure acts), **SAG** (shots at goal), **i50s** (Inside 50s), **HTA%** (Hitouts to Advantage percent), **HTW%** (Hitouts to Win percent), **KE%** (kick efficiency), **KHB** (kick to handball ratio), **CP** (contested possessions), **Mi50** (Marks Inside 50), **GA%** (shots at goal accuracy), **CDL%** (contested defensive losses) are important player stats."
   ]
  },
  {
   "cell_type": "markdown",
   "id": "d98f49b0",
   "metadata": {},
   "source": [
    "### Weather Data"
   ]
  },
  {
   "cell_type": "markdown",
   "id": "469d8353",
   "metadata": {},
   "source": [
    "**Max/Min Temp**, **Solar Radiation**, **Wind Speed** seem important, however **Rain** and **Humidity** do not."
   ]
  },
  {
   "cell_type": "markdown",
   "id": "da39f36a",
   "metadata": {},
   "source": [
    "### Other"
   ]
  },
  {
   "cell_type": "markdown",
   "id": "1c189326",
   "metadata": {},
   "source": [
    "**Attendance** seems very important. Keep **home/away** as well, but seems less important. **Venue**, **Team**, **Opponent** and **Day** to be quite unimportant. "
   ]
  },
  {
   "cell_type": "markdown",
   "id": "e7afb6cf",
   "metadata": {},
   "source": [
    "## Information Values:"
   ]
  },
  {
   "cell_type": "markdown",
   "id": "722466cb",
   "metadata": {},
   "source": [
    "Get the information values for all variables, binning the numerical varaibles into deciles."
   ]
  },
  {
   "cell_type": "code",
   "execution_count": null,
   "id": "575ca554",
   "metadata": {},
   "outputs": [],
   "source": [
    "df_matches_v3_IT, df_matches_v3_OOT, Xv2_train, Xv2_test, yv2_train, yv2_test = split_preprocess(df_matches_v3)\n",
    "#Drop season from all the data\n",
    "df_matches_v3_IT = df_matches_v3_IT.drop(['PointsF','PointsA','Round','Date','RoundNum','Season'],axis=1)\n",
    "df_matches_v3_OOT = df_matches_v3_OOT.drop(['PointsF','PointsA','Round','Date','RoundNum','Season'],axis=1)\n",
    "Xv2_train.drop(['PointsF','PointsA','Round','Date','RoundNum','Season'],axis=1,inplace=True)\n",
    "Xv2_test.drop(['PointsF','PointsA','Round','Date','RoundNum','Season'],axis=1,inplace=True)"
   ]
  },
  {
   "cell_type": "code",
   "execution_count": null,
   "id": "d9ec4027",
   "metadata": {},
   "outputs": [],
   "source": [
    "#Join the outcome variable back to the data\n",
    "Xv2_train = pd.concat([Xv2_train,yv2_train],axis=1)"
   ]
  },
  {
   "cell_type": "markdown",
   "id": "775606a2",
   "metadata": {},
   "source": [
    "### Bin the numerical variables as quantiles "
   ]
  },
  {
   "cell_type": "code",
   "execution_count": null,
   "id": "c2e3eaa7",
   "metadata": {},
   "outputs": [],
   "source": [
    "#Get numerical columns\n",
    "#Extract only ther numeric columns\n",
    "numerics = ['int16', 'int32', 'int64', 'float16', 'float32', 'float64']\n",
    "num_cols = list(Xv2_train.select_dtypes(include=numerics).columns)\n",
    "num_cols.remove('Outcome')"
   ]
  },
  {
   "cell_type": "code",
   "execution_count": null,
   "id": "e1e7d25e",
   "metadata": {},
   "outputs": [],
   "source": [
    "Xv2_train_copy = Xv2_train.copy(deep=True)"
   ]
  },
  {
   "cell_type": "code",
   "execution_count": null,
   "id": "caed4fc9",
   "metadata": {},
   "outputs": [],
   "source": [
    "for col in num_cols:\n",
    "    try:\n",
    "        Xv2_train_copy.loc[:,col] = pd.qcut(Xv2_train[col],10,duplicates='drop') \n",
    "    except:\n",
    "        continue"
   ]
  },
  {
   "cell_type": "code",
   "execution_count": null,
   "id": "93f2e961",
   "metadata": {},
   "outputs": [],
   "source": [
    "num_cols = list(Xv2_train.select_dtypes(include=numerics).columns)"
   ]
  },
  {
   "cell_type": "code",
   "execution_count": null,
   "id": "7c051826",
   "metadata": {},
   "outputs": [],
   "source": [
    "num_cols"
   ]
  },
  {
   "cell_type": "markdown",
   "id": "18b44a02",
   "metadata": {},
   "source": [
    "## IV Functions"
   ]
  },
  {
   "cell_type": "code",
   "execution_count": null,
   "id": "06bb0cda",
   "metadata": {},
   "outputs": [],
   "source": [
    "import sys\n",
    "sys.path.append('../functions')\n",
    "from IVfunctions import * "
   ]
  },
  {
   "cell_type": "code",
   "execution_count": null,
   "id": "d59881fe",
   "metadata": {},
   "outputs": [],
   "source": [
    "df_IV,Xout = IV_summary(Xv2_train_copy,'Outcome')"
   ]
  },
  {
   "cell_type": "code",
   "execution_count": null,
   "id": "61eea7b0",
   "metadata": {},
   "outputs": [],
   "source": [
    "df_IV[df_IV['IV']>=0.07].plot.bar(x = 'Variable', y = 'IV', fontsize='9')"
   ]
  },
  {
   "cell_type": "markdown",
   "id": "3ecd6623",
   "metadata": {},
   "source": [
    "Seems the important variables are 'Team', 'Opponent', 'SAG', 'SI','SL', 'i50s','R', 'G','DHPA','Mi50'"
   ]
  },
  {
   "cell_type": "markdown",
   "id": "50fce4c4",
   "metadata": {},
   "source": [
    "## Univariate Analysis"
   ]
  },
  {
   "cell_type": "code",
   "execution_count": null,
   "id": "14791d48",
   "metadata": {},
   "outputs": [],
   "source": [
    "#Extract only the relevant columns\n",
    "Xv2_train = Xv2_train[['Team','Opponent','SAG_team1','SAG_team2','SAG_team3','SAG_opp1','SAG_opp2','SAG_opp3',\n",
    "                    'SL_team1','SL_team2','SL_team3','SL_opp1','SL_opp2','SL_opp3',\n",
    "                    'SI_team1','SI_team2','SI_team3','SI_opp1','SI_opp2','SI_opp3',\n",
    "                    'i50s_team1','i50s_team2','i50s_team3','i50s_opp1','i50s_opp2','i50s_opp3',\n",
    "                    'R_team1','R_team2','R_team3','R_opp1','R_opp2','R_opp3',\n",
    "                    'G_team1','G_team2','G_team3','G_opp1','G_opp2','G_opp3',\n",
    "                    'DHPA_team1','DHPA_team2','DHPA_team3','DHPA_opp1','DHPA_opp2','DHPA_opp3',\n",
    "                    'Mi50_team1','Mi50_team2','Mi50_team3','Mi50_opp1','Mi50_opp2','Mi50_opp3','Outcome']]"
   ]
  },
  {
   "cell_type": "code",
   "execution_count": null,
   "id": "504685bb",
   "metadata": {},
   "outputs": [],
   "source": [
    "#Numeric columns\n",
    "numerics = ['int16', 'int32', 'int64', 'float16', 'float32', 'float64']\n",
    "num_cols = list(Xv2_train.select_dtypes(include=numerics).columns)\n",
    "num_cols.remove('Outcome')\n",
    "#Category columns\n",
    "cat_cols = list(Xv2_train.select_dtypes(include='object').columns)\n"
   ]
  },
  {
   "cell_type": "code",
   "execution_count": null,
   "id": "ae7a6372",
   "metadata": {},
   "outputs": [],
   "source": [
    "for col in num_cols:\n",
    "    #round to 2d.p.'s\n",
    "    Xv2_train['rounded_'+col] = Xv2_train[col].round(1)\n",
    "    agg = Xv2_train.groupby('rounded_'+col).agg({'Outcome':'mean'})\n",
    "    agg = agg.sort_index()\n",
    "    agg = agg.reset_index()\n",
    "    fig,ax = plt.subplots()\n",
    "    agg.plot(x='rounded_'+col,y='Outcome',ax=ax)\n",
    "    plt.show()"
   ]
  },
  {
   "cell_type": "markdown",
   "id": "164079c4",
   "metadata": {},
   "source": [
    "### Summary"
   ]
  },
  {
   "cell_type": "markdown",
   "id": "46877974",
   "metadata": {},
   "source": [
    "Team Positive relationships:\n",
    "- SAG\n",
    "- SL\n",
    "- SI\n",
    "- i50s\n",
    "- R\n",
    "- G\n",
    "- Mi50s\n",
    "\n",
    "Team Negative relationships:\n",
    "- DHPA"
   ]
  },
  {
   "cell_type": "code",
   "execution_count": null,
   "id": "8836ae1c",
   "metadata": {},
   "outputs": [],
   "source": [
    "#Remove the rounded columns created from earlier\n",
    "rounded_cols = Xv2_train.columns[Xv2_train.columns.str.match(r'^rounded_')].to_list()\n",
    "\n",
    "#Remove from the dataframe\n",
    "Xv2_train=Xv2_train.drop(rounded_cols,axis=1)"
   ]
  },
  {
   "cell_type": "code",
   "execution_count": null,
   "id": "aecf5686",
   "metadata": {},
   "outputs": [],
   "source": [
    "for col in cat_cols:\n",
    "    #round to 2d.p.'s\n",
    "    agg = Xv2_train.groupby(col).agg({'Outcome':'mean'})\n",
    "    agg = agg.sort_values('Outcome')\n",
    "    agg = agg.reset_index()\n",
    "    fig,ax = plt.subplots()\n",
    "    agg.plot.bar(x=col,y='Outcome',ax=ax)\n",
    "    plt.show()"
   ]
  },
  {
   "cell_type": "markdown",
   "id": "56c7bec9",
   "metadata": {},
   "source": [
    "## Use Decision Tree to find Optimal Cut Points for Numeric Variables"
   ]
  },
  {
   "cell_type": "code",
   "execution_count": null,
   "id": "79e73ee7",
   "metadata": {},
   "outputs": [],
   "source": [
    "Xv2_train.pop('Outcome')"
   ]
  },
  {
   "cell_type": "markdown",
   "id": "8d883776",
   "metadata": {},
   "source": [
    "## Get Correlations between remaining variables"
   ]
  },
  {
   "cell_type": "code",
   "execution_count": null,
   "id": "d6626b79",
   "metadata": {},
   "outputs": [],
   "source": [
    "dep_vars = ['SAG_team1','SAG_opp3','SL_team1','SL_opp3',\\\n",
    "                       'SI_team1','SI_team2','SI_team3','SI_opp1','SI_opp2',\\\n",
    "                       'SI_opp3','i50s_team1','i50s_team3','R_team3']\n",
    "\n",
    "corr = Xv2_train[dep_vars].corr()\n",
    "\n",
    "corr.style.background_gradient(cmap='coolwarm')"
   ]
  },
  {
   "cell_type": "markdown",
   "id": "aa79979d",
   "metadata": {},
   "source": [
    "**High correlations >80%:**\n",
    "\n",
    "- SAG_team1 and SL_team1 SI_team1 \n",
    "- SAG_opp3 and SL_opp3 SI_opp3\n",
    "- SL and SI.\n",
    "\n",
    "\n",
    "\n",
    "**Moderate Correlation > 60%:**\n",
    "- SAG_team1 and i50s_team1\n",
    "- SL and i50s\n",
    "- SI and R i50s\n",
    "- i50s and R\n",
    "\n",
    "Conclusion: Remove **SI**, **SL**, and **R**"
   ]
  },
  {
   "cell_type": "code",
   "execution_count": null,
   "id": "69c07734",
   "metadata": {},
   "outputs": [],
   "source": [
    "from sklearn import tree\n",
    "clf = tree.DecisionTreeClassifier(max_depth=3,random_state=5432)"
   ]
  },
  {
   "cell_type": "code",
   "execution_count": null,
   "id": "81deedfa",
   "metadata": {
    "scrolled": true
   },
   "outputs": [],
   "source": [
    "for col in num_cols:\n",
    "    clf.fit(Xv2_train[col].values.reshape(-1,1),yv2_train)\n",
    "    fig,ax = plt.subplots(figsize=(10,10))\n",
    "    fig.suptitle(col)\n",
    "    tree.plot_tree(clf,ax=ax)\n",
    "    plt.show()"
   ]
  },
  {
   "cell_type": "markdown",
   "id": "3686032e",
   "metadata": {},
   "source": [
    "## Bin the Numeric variables"
   ]
  },
  {
   "cell_type": "code",
   "execution_count": null,
   "id": "b90aaac4",
   "metadata": {},
   "outputs": [],
   "source": [
    "# SAG\n",
    "bins_SAG = pd.IntervalIndex.from_tuples([(-np.inf, 0.8), (0.8, 1.0), (1.0, 1.25),(1.25,1.5),(1.5,np.inf)])\n",
    "Xv2_train['SAG_team1_binned'] = pd.cut(Xv2_train['SAG_team1'],bins_SAG)\n",
    "Xv2_train['SAG_team2_binned'] = pd.cut(Xv2_train['SAG_team2'],bins_SAG)\n",
    "Xv2_train['SAG_team3_binned'] = pd.cut(Xv2_train['SAG_team3'],bins_SAG)\n",
    "Xv2_train['SAG_opp1_binned'] = pd.cut(Xv2_train['SAG_opp1'],bins_SAG)\n",
    "Xv2_train['SAG_opp2_binned'] = pd.cut(Xv2_train['SAG_opp2'],bins_SAG)\n",
    "Xv2_train['SAG_opp3_binned'] = pd.cut(Xv2_train['SAG_opp3'],bins_SAG)\n",
    "\n",
    "#SL\n",
    "bins_SL = pd.IntervalIndex.from_tuples([(-np.inf, 0.8),(0.8, 1.5),(1.5,1.7),(1.7,np.inf)])\n",
    "Xv2_train['SL_team1_binned'] = pd.cut(Xv2_train['SL_team1'],bins_SL)\n",
    "Xv2_train['SL_team2_binned'] = pd.cut(Xv2_train['SL_team2'],bins_SL)\n",
    "Xv2_train['SL_team3_binned'] = pd.cut(Xv2_train['SL_team3'],bins_SL)\n",
    "Xv2_train['SL_opp1_binned'] = pd.cut(Xv2_train['SL_opp1'],bins_SL)\n",
    "Xv2_train['SL_opp2_binned'] = pd.cut(Xv2_train['SL_opp2'],bins_SL)\n",
    "Xv2_train['SL_opp3_binned'] = pd.cut(Xv2_train['SL_opp3'],bins_SL)\n",
    "\n",
    "#SI\n",
    "bins_SI = pd.IntervalIndex.from_tuples([(-np.inf, 2.5), (2.5, 3.0),(3.0, 4.5),(4.5,5.5),(5.5,np.inf)])\n",
    "Xv2_train['SI_team1_binned'] = pd.cut(Xv2_train['SI_team1'],bins_SI)\n",
    "Xv2_train['SI_team2_binned'] = pd.cut(Xv2_train['SI_team2'],bins_SI)\n",
    "Xv2_train['SI_team3_binned'] = pd.cut(Xv2_train['SI_team3'],bins_SI)\n",
    "Xv2_train['SI_opp1_binned'] = pd.cut(Xv2_train['SI_opp1'],bins_SI)\n",
    "Xv2_train['SI_opp2_binned'] = pd.cut(Xv2_train['SI_opp2'],bins_SI)\n",
    "Xv2_train['SI_opp3_binned'] = pd.cut(Xv2_train['SI_opp3'],bins_SI)\n",
    "\n",
    "#i50s\n",
    "bins_i50s = pd.IntervalIndex.from_tuples([(-np.inf, 1.5), (1.5, 1.9),(1.9, 2.5),(2.5,3),(3,np.inf)])\n",
    "Xv2_train['i50s_team1_binned'] = pd.cut(Xv2_train['i50s_team1'],bins_i50s)\n",
    "Xv2_train['i50s_team2_binned'] = pd.cut(Xv2_train['i50s_team2'],bins_i50s)\n",
    "Xv2_train['i50s_team3_binned'] = pd.cut(Xv2_train['i50s_team3'],bins_i50s)\n",
    "Xv2_train['i50s_opp1_binned'] = pd.cut(Xv2_train['i50s_opp1'],bins_i50s)\n",
    "Xv2_train['i50s_opp2_binned'] = pd.cut(Xv2_train['i50s_opp2'],bins_i50s)\n",
    "Xv2_train['i50s_opp3_binned'] = pd.cut(Xv2_train['i50s_opp3'],bins_i50s)\n",
    "\n",
    "#R\n",
    "bins_R = pd.IntervalIndex.from_tuples([(-np.inf, 7.5), (7.5, 8.5),(8.5, 10),(10,12),(12,np.inf)])\n",
    "Xv2_train['R_team1_binned'] = pd.cut(Xv2_train['R_team1'],bins_R)\n",
    "Xv2_train['R_team2_binned'] = pd.cut(Xv2_train['R_team2'],bins_R)\n",
    "Xv2_train['R_team3_binned'] = pd.cut(Xv2_train['R_team3'],bins_R)\n",
    "Xv2_train['R_opp1_binned'] = pd.cut(Xv2_train['R_opp1'],bins_R)\n",
    "Xv2_train['R_opp2_binned'] = pd.cut(Xv2_train['R_opp2'],bins_R)\n",
    "Xv2_train['R_opp3_binned'] = pd.cut(Xv2_train['R_opp3'],bins_R)\n",
    "\n",
    "#G\n",
    "bins_G = pd.IntervalIndex.from_tuples([(-np.inf, 0.25), (0.25, 0.35),(0.35, 0.45),(0.45,0.6),(0.6,np.inf)])\n",
    "Xv2_train['G_team1_binned'] = pd.cut(Xv2_train['G_team1'],bins_G)\n",
    "Xv2_train['G_team2_binned'] = pd.cut(Xv2_train['G_team2'],bins_G)\n",
    "Xv2_train['G_team3_binned'] = pd.cut(Xv2_train['G_team3'],bins_G)\n",
    "Xv2_train['G_opp1_binned'] = pd.cut(Xv2_train['G_opp1'],bins_G)\n",
    "Xv2_train['G_opp2_binned'] = pd.cut(Xv2_train['G_opp2'],bins_G)\n",
    "Xv2_train['G_opp3_binned'] = pd.cut(Xv2_train['G_opp3'],bins_G)\n",
    "\n",
    "#DHPA\n",
    "bins_DHPA = pd.IntervalIndex.from_tuples([(-np.inf, 4.5), (4.5, 5.5),(5.5, 6.5),(6.5,7.5),(7.5,np.inf)])\n",
    "Xv2_train['DHPA_team1_binned'] = pd.cut(Xv2_train['DHPA_team1'],bins_DHPA)\n",
    "Xv2_train['DHPA_team2_binned'] = pd.cut(Xv2_train['DHPA_team2'],bins_DHPA)\n",
    "Xv2_train['DHPA_team3_binned'] = pd.cut(Xv2_train['DHPA_team3'],bins_DHPA)\n",
    "Xv2_train['DHPA_opp1_binned'] = pd.cut(Xv2_train['DHPA_opp1'],bins_DHPA)\n",
    "Xv2_train['DHPA_opp2_binned'] = pd.cut(Xv2_train['DHPA_opp2'],bins_DHPA)\n",
    "Xv2_train['DHPA_opp3_binned'] = pd.cut(Xv2_train['DHPA_opp3'],bins_DHPA)\n",
    "\n",
    "#Mi50\n",
    "bins_Mi50 = pd.IntervalIndex.from_tuples([(-np.inf, 4.5), (4.5, 5.5),(5.5, 6.5),(6.5,7.5),(7.5,np.inf)])\n",
    "Xv2_train['Mi50_team1_binned'] = pd.cut(Xv2_train['Mi50_team1'],bins_Mi50)\n",
    "Xv2_train['Mi50_team2_binned'] = pd.cut(Xv2_train['Mi50_team2'],bins_Mi50)\n",
    "Xv2_train['Mi50_team3_binned'] = pd.cut(Xv2_train['Mi50_team3'],bins_Mi50)\n",
    "Xv2_train['Mi50_opp1_binned'] = pd.cut(Xv2_train['Mi50_opp1'],bins_Mi50)\n",
    "Xv2_train['Mi50_opp2_binned'] = pd.cut(Xv2_train['Mi50_opp2'],bins_Mi50)\n",
    "Xv2_train['Mi50_opp3_binned'] = pd.cut(Xv2_train['Mi50_opp3'],bins_Mi50)"
   ]
  },
  {
   "cell_type": "code",
   "execution_count": null,
   "id": "e57ca3f9",
   "metadata": {},
   "outputs": [],
   "source": [
    "#Join back on the outcome variable\n",
    "Xv2_train = pd.concat([Xv2_train,yv2_train],axis=1)"
   ]
  },
  {
   "cell_type": "markdown",
   "id": "e9f9e23d",
   "metadata": {},
   "source": [
    "## Logistic Regression"
   ]
  },
  {
   "cell_type": "code",
   "execution_count": null,
   "id": "26e65753",
   "metadata": {},
   "outputs": [],
   "source": [
    "#Xv2_train = Xv2_train.drop('Outcome',axis=1)"
   ]
  },
  {
   "cell_type": "code",
   "execution_count": null,
   "id": "2b34feae",
   "metadata": {},
   "outputs": [],
   "source": [
    "import statsmodels.formula.api as smf\n",
    "log_reg = smf.logit(\"Outcome ~ \\\n",
    "SAG_opp3 +\\\n",
    "i50s_team1 + i50s_team3 + Team + Opponent\", data=Xv2_train).fit()"
   ]
  },
  {
   "cell_type": "code",
   "execution_count": null,
   "id": "0431a391",
   "metadata": {},
   "outputs": [],
   "source": [
    "print(log_reg.summary())"
   ]
  },
  {
   "cell_type": "markdown",
   "id": "5933198a",
   "metadata": {},
   "source": [
    "# Training Data"
   ]
  },
  {
   "cell_type": "code",
   "execution_count": null,
   "id": "e2b3e989",
   "metadata": {},
   "outputs": [],
   "source": [
    "ypred = log_reg.predict(Xv2_train)"
   ]
  },
  {
   "cell_type": "code",
   "execution_count": null,
   "id": "f59c7062",
   "metadata": {},
   "outputs": [],
   "source": [
    "from sklearn.metrics import roc_curve,roc_auc_score\n",
    "fpr,tpr, thresholds = roc_curve(yv2_train,ypred)"
   ]
  },
  {
   "cell_type": "code",
   "execution_count": null,
   "id": "ff2100b4",
   "metadata": {},
   "outputs": [],
   "source": [
    "fig,ax = plt.subplots()\n",
    "\n",
    "ax.axline((0,0),slope=1,color='red',linestyle='--')\n",
    "ax.plot(fpr,tpr)\n",
    "ax.set_xlabel('TPR')\n",
    "ax.set_ylabel('FPR')\n",
    "ax.set_title('Training ROC Curve')"
   ]
  },
  {
   "cell_type": "markdown",
   "id": "35d474f0",
   "metadata": {},
   "source": [
    "### ROC SCORE and Gini SCORE"
   ]
  },
  {
   "cell_type": "code",
   "execution_count": null,
   "id": "3e0b4976",
   "metadata": {},
   "outputs": [],
   "source": [
    "AUC = roc_auc_score(yv2_train,ypred)\n",
    "Gini = 2*AUC-1\n",
    "print('ROC AUC: ',AUC*100,'\\nGini: ',Gini*100)"
   ]
  },
  {
   "cell_type": "markdown",
   "id": "1ca8017a",
   "metadata": {},
   "source": [
    "## Test Data"
   ]
  },
  {
   "cell_type": "code",
   "execution_count": null,
   "id": "c306bee6",
   "metadata": {},
   "outputs": [],
   "source": [
    "ypred_test = log_reg.predict(Xv2_test)\n",
    "fpr,tpr, thresholds = roc_curve(yv2_test,ypred_test)"
   ]
  },
  {
   "cell_type": "code",
   "execution_count": null,
   "id": "86dfc9f7",
   "metadata": {},
   "outputs": [],
   "source": [
    "fig,ax = plt.subplots()\n",
    "\n",
    "ax.axline((0,0),slope=1,color='red',linestyle='--')\n",
    "ax.plot(fpr,tpr)\n",
    "ax.set_xlabel('TPR')\n",
    "ax.set_ylabel('FPR')\n",
    "ax.set_title('Test ROC Curve')"
   ]
  },
  {
   "cell_type": "code",
   "execution_count": null,
   "id": "9678e57b",
   "metadata": {},
   "outputs": [],
   "source": [
    "AUC = roc_auc_score(yv2_test,ypred_test)\n",
    "Gini = 2*AUC-1\n",
    "print('ROC AUC: ',AUC*100,'\\nGini: ',Gini*100)"
   ]
  },
  {
   "cell_type": "markdown",
   "id": "189c40b1",
   "metadata": {},
   "source": [
    "## Out of Time Data"
   ]
  },
  {
   "cell_type": "code",
   "execution_count": null,
   "id": "482bb0f4",
   "metadata": {},
   "outputs": [],
   "source": [
    "y_pred_OOT = log_reg.predict(df_matches_v3_OOT)\n",
    "y_OOT = df_matches_v3_OOT['Outcome']\n",
    "fpr,tpr, thresholds = roc_curve(y_OOT,y_pred_OOT)"
   ]
  },
  {
   "cell_type": "code",
   "execution_count": null,
   "id": "1cc839e9",
   "metadata": {},
   "outputs": [],
   "source": [
    "fig,ax = plt.subplots()\n",
    "\n",
    "ax.axline((0,0),slope=1,color='red',linestyle='--')\n",
    "ax.plot(fpr,tpr)\n",
    "ax.set_xlabel('TPR')\n",
    "ax.set_ylabel('FPR')\n",
    "ax.set_title('Test ROC Curve')"
   ]
  },
  {
   "cell_type": "code",
   "execution_count": null,
   "id": "619eb280",
   "metadata": {},
   "outputs": [],
   "source": [
    "AUC = roc_auc_score(y_OOT,y_pred_OOT)\n",
    "Gini = 2*AUC-1\n",
    "print('ROC AUC: ',AUC*100,'\\nGini: ',Gini*100)"
   ]
  },
  {
   "cell_type": "code",
   "execution_count": null,
   "id": "878ed240",
   "metadata": {},
   "outputs": [],
   "source": []
  }
 ],
 "metadata": {
  "kernelspec": {
   "display_name": "afl_env",
   "language": "python",
   "name": "afl_env"
  },
  "language_info": {
   "codemirror_mode": {
    "name": "ipython",
    "version": 3
   },
   "file_extension": ".py",
   "mimetype": "text/x-python",
   "name": "python",
   "nbconvert_exporter": "python",
   "pygments_lexer": "ipython3",
   "version": "3.8.18"
  }
 },
 "nbformat": 4,
 "nbformat_minor": 5
}
