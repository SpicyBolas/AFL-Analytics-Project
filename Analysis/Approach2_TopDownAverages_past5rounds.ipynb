{
 "cells": [
  {
   "cell_type": "code",
   "execution_count": 1,
   "id": "b34499d3",
   "metadata": {},
   "outputs": [],
   "source": [
    "import pandas as pd\n",
    "import numpy as np\n",
    "import matplotlib.pyplot as plt\n",
    "import seaborn as sns\n",
    "import re\n",
    "import sys\n",
    "sys.path.append('../functions')\n",
    "from IVfunctions import * \n",
    "from PreproFunctions import * "
   ]
  },
  {
   "cell_type": "markdown",
   "id": "deafe6cc",
   "metadata": {},
   "source": [
    "# Approach 2: Top Down (Average/Sum Team Stats and attach to the Match Data) "
   ]
  },
  {
   "cell_type": "markdown",
   "id": "e90bb5c3",
   "metadata": {},
   "source": [
    "## Load in and Prepare the Player Data"
   ]
  },
  {
   "cell_type": "code",
   "execution_count": 2,
   "id": "17b5c29d",
   "metadata": {},
   "outputs": [],
   "source": [
    "#Load in the player data\n",
    "df_players = pd.read_csv('../data/PlayerData_v1.csv',index_col=0)"
   ]
  },
  {
   "cell_type": "markdown",
   "id": "a399a3b6",
   "metadata": {},
   "source": [
    "## Load in and Prepare the Match Data"
   ]
  },
  {
   "cell_type": "code",
   "execution_count": 3,
   "id": "d518ddab",
   "metadata": {},
   "outputs": [],
   "source": [
    "#Load in the match data\n",
    "df_matches = pd.read_csv('../data/MatchData_v2.csv',index_col=0)"
   ]
  },
  {
   "cell_type": "code",
   "execution_count": 4,
   "id": "af1737d0",
   "metadata": {},
   "outputs": [],
   "source": [
    "df_matches_v3 = top_down_preproc(df_players,df_matches,2024) #Remove 2024 data"
   ]
  },
  {
   "cell_type": "markdown",
   "id": "7ce136ee",
   "metadata": {},
   "source": [
    "### Final Analysis Version Data: "
   ]
  },
  {
   "cell_type": "code",
   "execution_count": 5,
   "id": "ad964924",
   "metadata": {},
   "outputs": [
    {
     "data": {
      "text/html": [
       "<div>\n",
       "<style scoped>\n",
       "    .dataframe tbody tr th:only-of-type {\n",
       "        vertical-align: middle;\n",
       "    }\n",
       "\n",
       "    .dataframe tbody tr th {\n",
       "        vertical-align: top;\n",
       "    }\n",
       "\n",
       "    .dataframe thead th {\n",
       "        text-align: right;\n",
       "    }\n",
       "</style>\n",
       "<table border=\"1\" class=\"dataframe\">\n",
       "  <thead>\n",
       "    <tr style=\"text-align: right;\">\n",
       "      <th></th>\n",
       "      <th>Team</th>\n",
       "      <th>Opponent</th>\n",
       "      <th>Venue</th>\n",
       "      <th>Season</th>\n",
       "      <th>Round</th>\n",
       "      <th>Day</th>\n",
       "      <th>Date</th>\n",
       "      <th>Outcome</th>\n",
       "      <th>H/A</th>\n",
       "      <th>oppH/A</th>\n",
       "      <th>...</th>\n",
       "      <th>HTA_opp</th>\n",
       "      <th>HTW%_opp</th>\n",
       "      <th>HTA%_opp</th>\n",
       "      <th>RC_opp</th>\n",
       "      <th>Attendance</th>\n",
       "      <th>PointsF</th>\n",
       "      <th>PointsA</th>\n",
       "      <th>season_win_rate</th>\n",
       "      <th>win_streak</th>\n",
       "      <th>days_last_match</th>\n",
       "    </tr>\n",
       "  </thead>\n",
       "  <tbody>\n",
       "    <tr>\n",
       "      <th>2496</th>\n",
       "      <td>Adelaide</td>\n",
       "      <td>Sydney</td>\n",
       "      <td>S.C.G.</td>\n",
       "      <td>2012</td>\n",
       "      <td>Round 6</td>\n",
       "      <td>Sat</td>\n",
       "      <td>05-May-2012</td>\n",
       "      <td>1</td>\n",
       "      <td>A</td>\n",
       "      <td>H</td>\n",
       "      <td>...</td>\n",
       "      <td>0.272727</td>\n",
       "      <td>2.365455</td>\n",
       "      <td>3.170909</td>\n",
       "      <td>2.927273</td>\n",
       "      <td>30049.0</td>\n",
       "      <td>101.8</td>\n",
       "      <td>82.6</td>\n",
       "      <td>0.800000</td>\n",
       "      <td>2.0</td>\n",
       "      <td>6</td>\n",
       "    </tr>\n",
       "    <tr>\n",
       "      <th>55</th>\n",
       "      <td>Adelaide</td>\n",
       "      <td>Geelong</td>\n",
       "      <td>Football Park</td>\n",
       "      <td>2012</td>\n",
       "      <td>Round 7</td>\n",
       "      <td>Sat</td>\n",
       "      <td>12-May-2012</td>\n",
       "      <td>1</td>\n",
       "      <td>H</td>\n",
       "      <td>A</td>\n",
       "      <td>...</td>\n",
       "      <td>0.309091</td>\n",
       "      <td>2.044545</td>\n",
       "      <td>3.197273</td>\n",
       "      <td>3.200000</td>\n",
       "      <td>32284.8</td>\n",
       "      <td>94.2</td>\n",
       "      <td>87.8</td>\n",
       "      <td>0.833333</td>\n",
       "      <td>3.0</td>\n",
       "      <td>7</td>\n",
       "    </tr>\n",
       "    <tr>\n",
       "      <th>2517</th>\n",
       "      <td>Adelaide</td>\n",
       "      <td>Carlton</td>\n",
       "      <td>Docklands</td>\n",
       "      <td>2012</td>\n",
       "      <td>Round 8</td>\n",
       "      <td>Sun</td>\n",
       "      <td>20-May-2012</td>\n",
       "      <td>1</td>\n",
       "      <td>A</td>\n",
       "      <td>H</td>\n",
       "      <td>...</td>\n",
       "      <td>0.339526</td>\n",
       "      <td>3.762411</td>\n",
       "      <td>3.633043</td>\n",
       "      <td>3.289723</td>\n",
       "      <td>32587.6</td>\n",
       "      <td>102.2</td>\n",
       "      <td>89.4</td>\n",
       "      <td>0.857143</td>\n",
       "      <td>4.0</td>\n",
       "      <td>8</td>\n",
       "    </tr>\n",
       "    <tr>\n",
       "      <th>76</th>\n",
       "      <td>Adelaide</td>\n",
       "      <td>Collingwood</td>\n",
       "      <td>Football Park</td>\n",
       "      <td>2012</td>\n",
       "      <td>Round 9</td>\n",
       "      <td>Sat</td>\n",
       "      <td>26-May-2012</td>\n",
       "      <td>0</td>\n",
       "      <td>H</td>\n",
       "      <td>A</td>\n",
       "      <td>...</td>\n",
       "      <td>0.375889</td>\n",
       "      <td>3.816047</td>\n",
       "      <td>3.619407</td>\n",
       "      <td>3.571542</td>\n",
       "      <td>33066.2</td>\n",
       "      <td>110.2</td>\n",
       "      <td>72.4</td>\n",
       "      <td>0.875000</td>\n",
       "      <td>5.0</td>\n",
       "      <td>6</td>\n",
       "    </tr>\n",
       "    <tr>\n",
       "      <th>2531</th>\n",
       "      <td>Adelaide</td>\n",
       "      <td>Fremantle</td>\n",
       "      <td>Subiaco</td>\n",
       "      <td>2012</td>\n",
       "      <td>Round 10</td>\n",
       "      <td>Sat</td>\n",
       "      <td>02-Jun-2012</td>\n",
       "      <td>1</td>\n",
       "      <td>A</td>\n",
       "      <td>H</td>\n",
       "      <td>...</td>\n",
       "      <td>0.439526</td>\n",
       "      <td>4.380593</td>\n",
       "      <td>3.959407</td>\n",
       "      <td>4.453360</td>\n",
       "      <td>36261.6</td>\n",
       "      <td>100.8</td>\n",
       "      <td>77.4</td>\n",
       "      <td>0.777778</td>\n",
       "      <td>0.0</td>\n",
       "      <td>7</td>\n",
       "    </tr>\n",
       "    <tr>\n",
       "      <th>...</th>\n",
       "      <td>...</td>\n",
       "      <td>...</td>\n",
       "      <td>...</td>\n",
       "      <td>...</td>\n",
       "      <td>...</td>\n",
       "      <td>...</td>\n",
       "      <td>...</td>\n",
       "      <td>...</td>\n",
       "      <td>...</td>\n",
       "      <td>...</td>\n",
       "      <td>...</td>\n",
       "      <td>...</td>\n",
       "      <td>...</td>\n",
       "      <td>...</td>\n",
       "      <td>...</td>\n",
       "      <td>...</td>\n",
       "      <td>...</td>\n",
       "      <td>...</td>\n",
       "      <td>...</td>\n",
       "      <td>...</td>\n",
       "      <td>...</td>\n",
       "    </tr>\n",
       "    <tr>\n",
       "      <th>2394</th>\n",
       "      <td>Western Bulldogs</td>\n",
       "      <td>Greater Western Sydney</td>\n",
       "      <td>Eureka Stadium</td>\n",
       "      <td>2023</td>\n",
       "      <td>Round 20</td>\n",
       "      <td>Sat</td>\n",
       "      <td>29-Jul-2023</td>\n",
       "      <td>0</td>\n",
       "      <td>H</td>\n",
       "      <td>A</td>\n",
       "      <td>...</td>\n",
       "      <td>0.547826</td>\n",
       "      <td>5.222609</td>\n",
       "      <td>3.378261</td>\n",
       "      <td>4.582609</td>\n",
       "      <td>32515.6</td>\n",
       "      <td>90.0</td>\n",
       "      <td>74.6</td>\n",
       "      <td>0.555556</td>\n",
       "      <td>1.0</td>\n",
       "      <td>8</td>\n",
       "    </tr>\n",
       "    <tr>\n",
       "      <th>2402</th>\n",
       "      <td>Western Bulldogs</td>\n",
       "      <td>Richmond</td>\n",
       "      <td>Docklands</td>\n",
       "      <td>2023</td>\n",
       "      <td>Round 21</td>\n",
       "      <td>Fri</td>\n",
       "      <td>04-Aug-2023</td>\n",
       "      <td>1</td>\n",
       "      <td>H</td>\n",
       "      <td>A</td>\n",
       "      <td>...</td>\n",
       "      <td>0.478261</td>\n",
       "      <td>4.860870</td>\n",
       "      <td>3.153043</td>\n",
       "      <td>4.626087</td>\n",
       "      <td>29565.8</td>\n",
       "      <td>83.6</td>\n",
       "      <td>73.4</td>\n",
       "      <td>0.526316</td>\n",
       "      <td>0.0</td>\n",
       "      <td>6</td>\n",
       "    </tr>\n",
       "    <tr>\n",
       "      <th>4864</th>\n",
       "      <td>Western Bulldogs</td>\n",
       "      <td>Hawthorn</td>\n",
       "      <td>York Park</td>\n",
       "      <td>2023</td>\n",
       "      <td>Round 22</td>\n",
       "      <td>Sun</td>\n",
       "      <td>13-Aug-2023</td>\n",
       "      <td>0</td>\n",
       "      <td>A</td>\n",
       "      <td>H</td>\n",
       "      <td>...</td>\n",
       "      <td>0.443478</td>\n",
       "      <td>4.629565</td>\n",
       "      <td>2.460000</td>\n",
       "      <td>4.573913</td>\n",
       "      <td>32344.2</td>\n",
       "      <td>88.4</td>\n",
       "      <td>73.0</td>\n",
       "      <td>0.550000</td>\n",
       "      <td>1.0</td>\n",
       "      <td>9</td>\n",
       "    </tr>\n",
       "    <tr>\n",
       "      <th>2426</th>\n",
       "      <td>Western Bulldogs</td>\n",
       "      <td>West Coast</td>\n",
       "      <td>Docklands</td>\n",
       "      <td>2023</td>\n",
       "      <td>Round 23</td>\n",
       "      <td>Sun</td>\n",
       "      <td>20-Aug-2023</td>\n",
       "      <td>0</td>\n",
       "      <td>H</td>\n",
       "      <td>A</td>\n",
       "      <td>...</td>\n",
       "      <td>0.478261</td>\n",
       "      <td>4.197391</td>\n",
       "      <td>3.219130</td>\n",
       "      <td>4.530435</td>\n",
       "      <td>26143.8</td>\n",
       "      <td>85.8</td>\n",
       "      <td>68.6</td>\n",
       "      <td>0.523810</td>\n",
       "      <td>0.0</td>\n",
       "      <td>7</td>\n",
       "    </tr>\n",
       "    <tr>\n",
       "      <th>4880</th>\n",
       "      <td>Western Bulldogs</td>\n",
       "      <td>Geelong</td>\n",
       "      <td>Kardinia Park</td>\n",
       "      <td>2023</td>\n",
       "      <td>Round 24</td>\n",
       "      <td>Sat</td>\n",
       "      <td>26-Aug-2023</td>\n",
       "      <td>1</td>\n",
       "      <td>A</td>\n",
       "      <td>H</td>\n",
       "      <td>...</td>\n",
       "      <td>0.495652</td>\n",
       "      <td>3.972174</td>\n",
       "      <td>3.056522</td>\n",
       "      <td>4.573913</td>\n",
       "      <td>25692.6</td>\n",
       "      <td>87.6</td>\n",
       "      <td>71.4</td>\n",
       "      <td>0.500000</td>\n",
       "      <td>0.0</td>\n",
       "      <td>6</td>\n",
       "    </tr>\n",
       "  </tbody>\n",
       "</table>\n",
       "<p>3816 rows × 124 columns</p>\n",
       "</div>"
      ],
      "text/plain": [
       "                  Team                Opponent           Venue  Season  \\\n",
       "2496          Adelaide                  Sydney          S.C.G.    2012   \n",
       "55            Adelaide                 Geelong   Football Park    2012   \n",
       "2517          Adelaide                 Carlton       Docklands    2012   \n",
       "76            Adelaide             Collingwood   Football Park    2012   \n",
       "2531          Adelaide               Fremantle         Subiaco    2012   \n",
       "...                ...                     ...             ...     ...   \n",
       "2394  Western Bulldogs  Greater Western Sydney  Eureka Stadium    2023   \n",
       "2402  Western Bulldogs                Richmond       Docklands    2023   \n",
       "4864  Western Bulldogs                Hawthorn       York Park    2023   \n",
       "2426  Western Bulldogs              West Coast       Docklands    2023   \n",
       "4880  Western Bulldogs                 Geelong   Kardinia Park    2023   \n",
       "\n",
       "         Round  Day         Date  Outcome H/A oppH/A  ...   HTA_opp  HTW%_opp  \\\n",
       "2496   Round 6  Sat  05-May-2012        1   A      H  ...  0.272727  2.365455   \n",
       "55     Round 7  Sat  12-May-2012        1   H      A  ...  0.309091  2.044545   \n",
       "2517   Round 8  Sun  20-May-2012        1   A      H  ...  0.339526  3.762411   \n",
       "76     Round 9  Sat  26-May-2012        0   H      A  ...  0.375889  3.816047   \n",
       "2531  Round 10  Sat  02-Jun-2012        1   A      H  ...  0.439526  4.380593   \n",
       "...        ...  ...          ...      ...  ..    ...  ...       ...       ...   \n",
       "2394  Round 20  Sat  29-Jul-2023        0   H      A  ...  0.547826  5.222609   \n",
       "2402  Round 21  Fri  04-Aug-2023        1   H      A  ...  0.478261  4.860870   \n",
       "4864  Round 22  Sun  13-Aug-2023        0   A      H  ...  0.443478  4.629565   \n",
       "2426  Round 23  Sun  20-Aug-2023        0   H      A  ...  0.478261  4.197391   \n",
       "4880  Round 24  Sat  26-Aug-2023        1   A      H  ...  0.495652  3.972174   \n",
       "\n",
       "      HTA%_opp    RC_opp  Attendance  PointsF  PointsA  season_win_rate  \\\n",
       "2496  3.170909  2.927273     30049.0    101.8     82.6         0.800000   \n",
       "55    3.197273  3.200000     32284.8     94.2     87.8         0.833333   \n",
       "2517  3.633043  3.289723     32587.6    102.2     89.4         0.857143   \n",
       "76    3.619407  3.571542     33066.2    110.2     72.4         0.875000   \n",
       "2531  3.959407  4.453360     36261.6    100.8     77.4         0.777778   \n",
       "...        ...       ...         ...      ...      ...              ...   \n",
       "2394  3.378261  4.582609     32515.6     90.0     74.6         0.555556   \n",
       "2402  3.153043  4.626087     29565.8     83.6     73.4         0.526316   \n",
       "4864  2.460000  4.573913     32344.2     88.4     73.0         0.550000   \n",
       "2426  3.219130  4.530435     26143.8     85.8     68.6         0.523810   \n",
       "4880  3.056522  4.573913     25692.6     87.6     71.4         0.500000   \n",
       "\n",
       "      win_streak  days_last_match  \n",
       "2496         2.0                6  \n",
       "55           3.0                7  \n",
       "2517         4.0                8  \n",
       "76           5.0                6  \n",
       "2531         0.0                7  \n",
       "...          ...              ...  \n",
       "2394         1.0                8  \n",
       "2402         0.0                6  \n",
       "4864         1.0                9  \n",
       "2426         0.0                7  \n",
       "4880         0.0                6  \n",
       "\n",
       "[3816 rows x 124 columns]"
      ]
     },
     "execution_count": 5,
     "metadata": {},
     "output_type": "execute_result"
    }
   ],
   "source": [
    "df_matches_v3"
   ]
  },
  {
   "cell_type": "code",
   "execution_count": 6,
   "id": "1fcb1d4d",
   "metadata": {},
   "outputs": [],
   "source": [
    "#Encode and split data (statsmodels version)\n",
    "df_ML_IT_sm,df_ML_OOT_sm,X_train_sm,y_train_sm,X_test_sm,y_test_sm = encode_split_data(df_matches_v3,encode=False) "
   ]
  },
  {
   "cell_type": "code",
   "execution_count": 7,
   "id": "695ec505",
   "metadata": {},
   "outputs": [],
   "source": [
    "#Encode and split data (other)\n",
    "df_ML_IT,df_ML_OOT,X_train,y_train,X_test,y_test = encode_split_data(df_matches_v3,encode=True) "
   ]
  },
  {
   "cell_type": "markdown",
   "id": "7dfe997c",
   "metadata": {},
   "source": [
    "## Information Values"
   ]
  },
  {
   "cell_type": "code",
   "execution_count": 9,
   "id": "08a1a7be",
   "metadata": {},
   "outputs": [
    {
     "name": "stderr",
     "output_type": "stream",
     "text": [
      "G:\\Local\\Projects\\AFL-Analytics-Project\\Analysis\\../functions\\IVfunctions.py:71: RuntimeWarning: divide by zero encountered in log\n",
      "  agg['WoE'] = agg.apply(lambda x: np.log(x.goods_perc/x.bads_perc),axis=1)\n",
      "G:\\Local\\Projects\\AFL-Analytics-Project\\Analysis\\../functions\\IVfunctions.py:71: RuntimeWarning: divide by zero encountered in scalar divide\n",
      "  agg['WoE'] = agg.apply(lambda x: np.log(x.goods_perc/x.bads_perc),axis=1)\n"
     ]
    }
   ],
   "source": [
    "#Prepare data for IV by binning with 10% deciles\n",
    "X_train_sm_IV = decile_binning(X_train_sm)\n",
    "df_IV,Xout = IV_summary(pd.concat([X_train_sm_IV,y_train_sm],axis=1),'Outcome')"
   ]
  },
  {
   "cell_type": "code",
   "execution_count": 10,
   "id": "ba50673b",
   "metadata": {},
   "outputs": [
    {
     "data": {
      "text/plain": [
       "<Axes: xlabel='Variable'>"
      ]
     },
     "execution_count": 10,
     "metadata": {},
     "output_type": "execute_result"
    },
    {
     "data": {
      "image/png": "[encoded data removed]",
      "text/plain": [
       "<Figure size 640x480 with 1 Axes>"
      ]
     },
     "metadata": {},
     "output_type": "display_data"
    }
   ],
   "source": [
    "df_IV.head(20).plot.bar(x = 'Variable', y = 'IV', fontsize='9')"
   ]
  },
  {
   "cell_type": "code",
   "execution_count": null,
   "id": "75bdadac",
   "metadata": {},
   "outputs": [],
   "source": []
  },
  {
   "cell_type": "code",
   "execution_count": null,
   "id": "6ad2240c",
   "metadata": {},
   "outputs": [],
   "source": []
  },
  {
   "cell_type": "code",
   "execution_count": null,
   "id": "7a6c962c",
   "metadata": {},
   "outputs": [],
   "source": []
  },
  {
   "cell_type": "markdown",
   "id": "5b205f76",
   "metadata": {},
   "source": [
    "### Remove Non Predictors"
   ]
  },
  {
   "cell_type": "code",
   "execution_count": null,
   "id": "92b4a68a",
   "metadata": {},
   "outputs": [],
   "source": [
    "#Remover the time based data and points for and against at present match\n",
    "#Remove Season later after separating into IT/OOT\n",
    "df_ML = df_matches_v3.drop(['PointsF','PointsA','Round','Date','RoundNum'],axis=1)"
   ]
  },
  {
   "cell_type": "markdown",
   "id": "a2135c9f",
   "metadata": {},
   "source": [
    "## Pre Encoding Preprocessing"
   ]
  },
  {
   "cell_type": "code",
   "execution_count": null,
   "id": "10bc6206",
   "metadata": {},
   "outputs": [],
   "source": [
    "from sklearn.model_selection import train_test_split"
   ]
  },
  {
   "cell_type": "code",
   "execution_count": null,
   "id": "d2f142be",
   "metadata": {},
   "outputs": [],
   "source": [
    "def split_preprocess(data):\n",
    "    data_IT = data[data['Season']<=2019]\n",
    "    data_OOT = data[data['Season']>2019]\n",
    "    #Get the dependent variable\n",
    "    y = data_IT.pop('Outcome')\n",
    "    #Split the in time data, stratify by outcome and shuffle\n",
    "    X_train, X_test, y_train, y_test = train_test_split(data_IT,y,test_size=0.3,shuffle=True,random_state=5432,stratify=y)\n",
    "    #Return the split data\n",
    "    return data_IT, data_OOT, X_train, X_test, y_train, y_test"
   ]
  },
  {
   "cell_type": "markdown",
   "id": "368d8a79",
   "metadata": {},
   "source": [
    "### Encode Categorical Data"
   ]
  },
  {
   "cell_type": "code",
   "execution_count": null,
   "id": "eec510ec",
   "metadata": {},
   "outputs": [],
   "source": [
    "#Identify and remove the object data and convert to category\n",
    "df_categories = df_ML.select_dtypes(include=['object']).astype('category')\n",
    "cat_cols = df_categories.columns\n",
    "#Remove from the ML data to join back on later\n",
    "df_ML.drop(cat_cols,axis=1,inplace=True)\n",
    "#One Hot Encode the categories\n",
    "df_categories = pd.get_dummies(df_categories,dtype=int)\n",
    "#Join back on to the df_ML data\n",
    "df_ML = df_ML.join(df_categories)"
   ]
  },
  {
   "cell_type": "markdown",
   "id": "61fa5894",
   "metadata": {},
   "source": [
    "### Separate into in Time and OOT"
   ]
  },
  {
   "cell_type": "code",
   "execution_count": null,
   "id": "394cd8e2",
   "metadata": {},
   "outputs": [],
   "source": [
    "df_ML_IT, df_ML_OOT, X_train, X_test, y_train, y_test = split_preprocess(df_ML)\n",
    "#Drop season from all the data\n",
    "df_ML_IT = df_ML_IT.drop('Season',axis=1)\n",
    "df_ML_OOT = df_ML_OOT.drop('Season',axis=1)\n",
    "X_train.drop('Season',axis=1,inplace=True)\n",
    "X_test.drop('Season',axis=1,inplace=True)"
   ]
  },
  {
   "cell_type": "code",
   "execution_count": null,
   "id": "4bd0c7fc",
   "metadata": {},
   "outputs": [],
   "source": [
    "#Extract Feature names for diagnostics\n",
    "feature_names = df_ML_IT.columns.to_list()"
   ]
  },
  {
   "cell_type": "markdown",
   "id": "24b52a5a",
   "metadata": {},
   "source": [
    "## Variable Importance"
   ]
  },
  {
   "cell_type": "markdown",
   "id": "bee7d063",
   "metadata": {},
   "source": [
    "Note that variable importance here is specific to the model we produce with RF. As such, if the model is bad, the feature selection may be useless. Only consider these results in parrallel to the model performance and with other measures such as IVs."
   ]
  },
  {
   "cell_type": "code",
   "execution_count": null,
   "id": "457fb013",
   "metadata": {},
   "outputs": [],
   "source": [
    "#Import random forest for variable importance\n",
    "from sklearn.ensemble import RandomForestClassifier\n",
    "#Set up model\n",
    "forest = RandomForestClassifier(random_state=5432)\n",
    "#Fit the model\n",
    "forest.fit(X_train,y_train)"
   ]
  },
  {
   "cell_type": "markdown",
   "id": "6f0e3420",
   "metadata": {},
   "source": [
    "#### Check performance on test data"
   ]
  },
  {
   "cell_type": "code",
   "execution_count": null,
   "id": "fb040a63",
   "metadata": {},
   "outputs": [],
   "source": [
    "y_pred = forest.predict(X_test)\n",
    "\n",
    "confusion_matrix = pd.crosstab(y_test,y_pred,rownames=['Actual'],colnames=['Pred'])"
   ]
  },
  {
   "cell_type": "code",
   "execution_count": null,
   "id": "2628470e",
   "metadata": {},
   "outputs": [],
   "source": [
    "confusion_matrix"
   ]
  },
  {
   "cell_type": "markdown",
   "id": "f3f3cf04",
   "metadata": {},
   "source": [
    "**Definitions Reminder:**\n",
    "\n",
    "- Precision: %Predicted wins that were actually wins.\n",
    "- Recall: %Wins that were predicted\n",
    "\n",
    "We want to be sure the predicted wins are correct, precision should be our target metric."
   ]
  },
  {
   "cell_type": "code",
   "execution_count": null,
   "id": "ff41f279",
   "metadata": {},
   "outputs": [],
   "source": [
    "acc = np.trace(confusion_matrix)/confusion_matrix.sum()\n",
    "prec = confusion_matrix.loc[1,1]/confusion_matrix.loc[:,1].sum()\n",
    "rec = confusion_matrix.loc[1,1]/confusion_matrix.loc[1,:].sum()\n",
    "\n",
    "print('Accuracy: ',acc,'\\nPrecision: ',prec*100,'\\nRecall: ',rec*100)"
   ]
  },
  {
   "cell_type": "markdown",
   "id": "e2e7a8ef",
   "metadata": {},
   "source": [
    "Results aren't fantastic, so take the following importances with a grain of salt."
   ]
  },
  {
   "cell_type": "code",
   "execution_count": null,
   "id": "423db2e4",
   "metadata": {},
   "outputs": [],
   "source": [
    "importances = pd.Series(forest.feature_importances_,index=feature_names)\n",
    "importances = importances.sort_values(ascending=False)\n",
    "#Plot the importances\n",
    "fig, ax = plt.subplots(figsize=(10,5))\n",
    "importances[0:50].plot.bar(ax=ax)\n",
    "ax.set_title('Feature importance')\n",
    "ax.set_ylabel('Mean accuracy decrease')\n",
    "fig.tight_layout()\n",
    "plt.show()"
   ]
  },
  {
   "cell_type": "code",
   "execution_count": null,
   "id": "5b77acd4",
   "metadata": {},
   "outputs": [],
   "source": [
    "with pd.option_context('display.max_row',None):\n",
    "    print(importances)"
   ]
  },
  {
   "cell_type": "markdown",
   "id": "f4fe212b",
   "metadata": {},
   "source": [
    "### Player Stats"
   ]
  },
  {
   "cell_type": "markdown",
   "id": "28e456d3",
   "metadata": {},
   "source": [
    "At a glance it appears **SI** (Score Involvement), **SL** (Score Launches), **R** (Rating Points), **DHPA** (defensive half pressure acts), **SAG** (shots at goal), **i50s** (Inside 50s), **HTA%** (Hitouts to Advantage percent), **HTW%** (Hitouts to Win percent), **KE%** (kick efficiency), **KHB** (kick to handball ratio), **CP** (contested possessions), **Mi50** (Marks Inside 50), **GA%** (shots at goal accuracy), **CDL%** (contested defensive losses) are important player stats."
   ]
  },
  {
   "cell_type": "markdown",
   "id": "d98f49b0",
   "metadata": {},
   "source": [
    "### Weather Data"
   ]
  },
  {
   "cell_type": "markdown",
   "id": "469d8353",
   "metadata": {},
   "source": [
    "**Max/Min Temp**, **Solar Radiation**, **Wind Speed** seem important, however **Rain** and **Humidity** do not."
   ]
  },
  {
   "cell_type": "markdown",
   "id": "da39f36a",
   "metadata": {},
   "source": [
    "### Other"
   ]
  },
  {
   "cell_type": "markdown",
   "id": "1c189326",
   "metadata": {},
   "source": [
    "**Attendance** seems very important. Keep **home/away** as well, but seems less important. **Venue**, **Team**, **Opponent** and **Day** to be quite unimportant. "
   ]
  },
  {
   "cell_type": "markdown",
   "id": "e7afb6cf",
   "metadata": {},
   "source": [
    "## Information Values:"
   ]
  },
  {
   "cell_type": "markdown",
   "id": "722466cb",
   "metadata": {},
   "source": [
    "Get the information values for all variables, binning the numerical varaibles into deciles."
   ]
  },
  {
   "cell_type": "code",
   "execution_count": null,
   "id": "575ca554",
   "metadata": {},
   "outputs": [],
   "source": [
    "df_matches_v3_IT, df_matches_v3_OOT, Xv2_train, Xv2_test, yv2_train, yv2_test = split_preprocess(df_matches_v3)\n",
    "#Drop season from all the data\n",
    "df_matches_v3_IT = df_matches_v3_IT.drop(['PointsF','PointsA','Round','Date','RoundNum','Season'],axis=1)\n",
    "df_matches_v3_OOT = df_matches_v3_OOT.drop(['PointsF','PointsA','Round','Date','RoundNum','Season'],axis=1)\n",
    "Xv2_train.drop(['PointsF','PointsA','Round','Date','RoundNum','Season'],axis=1,inplace=True)\n",
    "Xv2_test.drop(['PointsF','PointsA','Round','Date','RoundNum','Season'],axis=1,inplace=True)"
   ]
  },
  {
   "cell_type": "code",
   "execution_count": null,
   "id": "d9ec4027",
   "metadata": {},
   "outputs": [],
   "source": [
    "#Join the outcome variable back to the data\n",
    "Xv2_train = pd.concat([Xv2_train,yv2_train],axis=1)"
   ]
  },
  {
   "cell_type": "markdown",
   "id": "775606a2",
   "metadata": {},
   "source": [
    "### Bin the numerical variables as quantiles "
   ]
  },
  {
   "cell_type": "code",
   "execution_count": null,
   "id": "c2e3eaa7",
   "metadata": {},
   "outputs": [],
   "source": [
    "#Get numerical columns\n",
    "#Extract only ther numeric columns\n",
    "numerics = ['int16', 'int32', 'int64', 'float16', 'float32', 'float64']\n",
    "num_cols = list(Xv2_train.select_dtypes(include=numerics).columns)\n",
    "num_cols.remove('Outcome')"
   ]
  },
  {
   "cell_type": "code",
   "execution_count": null,
   "id": "e1e7d25e",
   "metadata": {},
   "outputs": [],
   "source": [
    "Xv2_train_copy = Xv2_train.copy(deep=True)"
   ]
  },
  {
   "cell_type": "code",
   "execution_count": null,
   "id": "caed4fc9",
   "metadata": {},
   "outputs": [],
   "source": [
    "for col in num_cols:\n",
    "    try:\n",
    "        Xv2_train_copy.loc[:,col] = pd.qcut(Xv2_train[col],10,duplicates='drop') \n",
    "    except:\n",
    "        continue"
   ]
  },
  {
   "cell_type": "code",
   "execution_count": null,
   "id": "93f2e961",
   "metadata": {},
   "outputs": [],
   "source": [
    "num_cols = list(Xv2_train.select_dtypes(include=numerics).columns)"
   ]
  },
  {
   "cell_type": "code",
   "execution_count": null,
   "id": "7c051826",
   "metadata": {},
   "outputs": [],
   "source": [
    "num_cols"
   ]
  },
  {
   "cell_type": "markdown",
   "id": "18b44a02",
   "metadata": {},
   "source": [
    "## IV Functions"
   ]
  },
  {
   "cell_type": "code",
   "execution_count": null,
   "id": "06bb0cda",
   "metadata": {},
   "outputs": [],
   "source": [
    "import sys\n",
    "sys.path.append('../functions')\n",
    "from IVfunctions import * "
   ]
  },
  {
   "cell_type": "code",
   "execution_count": null,
   "id": "d59881fe",
   "metadata": {},
   "outputs": [],
   "source": [
    "df_IV,Xout = IV_summary(Xv2_train_copy,'Outcome')"
   ]
  },
  {
   "cell_type": "code",
   "execution_count": null,
   "id": "61eea7b0",
   "metadata": {},
   "outputs": [],
   "source": [
    "df_IV[df_IV['IV']>=0.07].plot.bar(x = 'Variable', y = 'IV', fontsize='9')"
   ]
  },
  {
   "cell_type": "markdown",
   "id": "3ecd6623",
   "metadata": {},
   "source": [
    "Seems the important variables are 'Team', 'Opponent', 'SAG', 'SI','SL', 'i50s','R', 'G','DHPA','Mi50'"
   ]
  },
  {
   "cell_type": "markdown",
   "id": "50fce4c4",
   "metadata": {},
   "source": [
    "## Univariate Analysis"
   ]
  },
  {
   "cell_type": "code",
   "execution_count": null,
   "id": "14791d48",
   "metadata": {},
   "outputs": [],
   "source": [
    "#Extract only the relevant columns\n",
    "Xv2_train = Xv2_train[['Team','Opponent','SAG_team1','SAG_team2','SAG_team3','SAG_opp1','SAG_opp2','SAG_opp3',\n",
    "                    'SL_team1','SL_team2','SL_team3','SL_opp1','SL_opp2','SL_opp3',\n",
    "                    'SI_team1','SI_team2','SI_team3','SI_opp1','SI_opp2','SI_opp3',\n",
    "                    'i50s_team1','i50s_team2','i50s_team3','i50s_opp1','i50s_opp2','i50s_opp3',\n",
    "                    'R_team1','R_team2','R_team3','R_opp1','R_opp2','R_opp3',\n",
    "                    'G_team1','G_team2','G_team3','G_opp1','G_opp2','G_opp3',\n",
    "                    'DHPA_team1','DHPA_team2','DHPA_team3','DHPA_opp1','DHPA_opp2','DHPA_opp3',\n",
    "                    'Mi50_team1','Mi50_team2','Mi50_team3','Mi50_opp1','Mi50_opp2','Mi50_opp3','Outcome']]"
   ]
  },
  {
   "cell_type": "code",
   "execution_count": null,
   "id": "504685bb",
   "metadata": {},
   "outputs": [],
   "source": [
    "#Numeric columns\n",
    "numerics = ['int16', 'int32', 'int64', 'float16', 'float32', 'float64']\n",
    "num_cols = list(Xv2_train.select_dtypes(include=numerics).columns)\n",
    "num_cols.remove('Outcome')\n",
    "#Category columns\n",
    "cat_cols = list(Xv2_train.select_dtypes(include='object').columns)\n"
   ]
  },
  {
   "cell_type": "code",
   "execution_count": null,
   "id": "ae7a6372",
   "metadata": {},
   "outputs": [],
   "source": [
    "for col in num_cols:\n",
    "    #round to 2d.p.'s\n",
    "    Xv2_train['rounded_'+col] = Xv2_train[col].round(1)\n",
    "    agg = Xv2_train.groupby('rounded_'+col).agg({'Outcome':'mean'})\n",
    "    agg = agg.sort_index()\n",
    "    agg = agg.reset_index()\n",
    "    fig,ax = plt.subplots()\n",
    "    agg.plot(x='rounded_'+col,y='Outcome',ax=ax)\n",
    "    plt.show()"
   ]
  },
  {
   "cell_type": "markdown",
   "id": "164079c4",
   "metadata": {},
   "source": [
    "### Summary"
   ]
  },
  {
   "cell_type": "markdown",
   "id": "46877974",
   "metadata": {},
   "source": [
    "Team Positive relationships:\n",
    "- SAG\n",
    "- SL\n",
    "- SI\n",
    "- i50s\n",
    "- R\n",
    "- G\n",
    "- Mi50s\n",
    "\n",
    "Team Negative relationships:\n",
    "- DHPA"
   ]
  },
  {
   "cell_type": "code",
   "execution_count": null,
   "id": "8836ae1c",
   "metadata": {},
   "outputs": [],
   "source": [
    "#Remove the rounded columns created from earlier\n",
    "rounded_cols = Xv2_train.columns[Xv2_train.columns.str.match(r'^rounded_')].to_list()\n",
    "\n",
    "#Remove from the dataframe\n",
    "Xv2_train=Xv2_train.drop(rounded_cols,axis=1)"
   ]
  },
  {
   "cell_type": "code",
   "execution_count": null,
   "id": "aecf5686",
   "metadata": {},
   "outputs": [],
   "source": [
    "for col in cat_cols:\n",
    "    #round to 2d.p.'s\n",
    "    agg = Xv2_train.groupby(col).agg({'Outcome':'mean'})\n",
    "    agg = agg.sort_values('Outcome')\n",
    "    agg = agg.reset_index()\n",
    "    fig,ax = plt.subplots()\n",
    "    agg.plot.bar(x=col,y='Outcome',ax=ax)\n",
    "    plt.show()"
   ]
  },
  {
   "cell_type": "markdown",
   "id": "56c7bec9",
   "metadata": {},
   "source": [
    "## Use Decision Tree to find Optimal Cut Points for Numeric Variables"
   ]
  },
  {
   "cell_type": "code",
   "execution_count": null,
   "id": "79e73ee7",
   "metadata": {},
   "outputs": [],
   "source": [
    "Xv2_train.pop('Outcome')"
   ]
  },
  {
   "cell_type": "markdown",
   "id": "8d883776",
   "metadata": {},
   "source": [
    "## Get Correlations between remaining variables"
   ]
  },
  {
   "cell_type": "code",
   "execution_count": null,
   "id": "d6626b79",
   "metadata": {},
   "outputs": [],
   "source": [
    "dep_vars = ['SAG_team1','SAG_opp3','SL_team1','SL_opp3',\\\n",
    "                       'SI_team1','SI_team2','SI_team3','SI_opp1','SI_opp2',\\\n",
    "                       'SI_opp3','i50s_team1','i50s_team3','R_team3']\n",
    "\n",
    "corr = Xv2_train[dep_vars].corr()\n",
    "\n",
    "corr.style.background_gradient(cmap='coolwarm')"
   ]
  },
  {
   "cell_type": "markdown",
   "id": "aa79979d",
   "metadata": {},
   "source": [
    "**High correlations >80%:**\n",
    "\n",
    "- SAG_team1 and SL_team1 SI_team1 \n",
    "- SAG_opp3 and SL_opp3 SI_opp3\n",
    "- SL and SI.\n",
    "\n",
    "\n",
    "\n",
    "**Moderate Correlation > 60%:**\n",
    "- SAG_team1 and i50s_team1\n",
    "- SL and i50s\n",
    "- SI and R i50s\n",
    "- i50s and R\n",
    "\n",
    "Conclusion: Remove **SI**, **SL**, and **R**"
   ]
  },
  {
   "cell_type": "code",
   "execution_count": null,
   "id": "69c07734",
   "metadata": {},
   "outputs": [],
   "source": [
    "from sklearn import tree\n",
    "clf = tree.DecisionTreeClassifier(max_depth=3,random_state=5432)"
   ]
  },
  {
   "cell_type": "code",
   "execution_count": null,
   "id": "81deedfa",
   "metadata": {
    "scrolled": true
   },
   "outputs": [],
   "source": [
    "for col in num_cols:\n",
    "    clf.fit(Xv2_train[col].values.reshape(-1,1),yv2_train)\n",
    "    fig,ax = plt.subplots(figsize=(10,10))\n",
    "    fig.suptitle(col)\n",
    "    tree.plot_tree(clf,ax=ax)\n",
    "    plt.show()"
   ]
  },
  {
   "cell_type": "markdown",
   "id": "3686032e",
   "metadata": {},
   "source": [
    "## Bin the Numeric variables"
   ]
  },
  {
   "cell_type": "code",
   "execution_count": null,
   "id": "b90aaac4",
   "metadata": {},
   "outputs": [],
   "source": [
    "# SAG\n",
    "bins_SAG = pd.IntervalIndex.from_tuples([(-np.inf, 0.8), (0.8, 1.0), (1.0, 1.25),(1.25,1.5),(1.5,np.inf)])\n",
    "Xv2_train['SAG_team1_binned'] = pd.cut(Xv2_train['SAG_team1'],bins_SAG)\n",
    "Xv2_train['SAG_team2_binned'] = pd.cut(Xv2_train['SAG_team2'],bins_SAG)\n",
    "Xv2_train['SAG_team3_binned'] = pd.cut(Xv2_train['SAG_team3'],bins_SAG)\n",
    "Xv2_train['SAG_opp1_binned'] = pd.cut(Xv2_train['SAG_opp1'],bins_SAG)\n",
    "Xv2_train['SAG_opp2_binned'] = pd.cut(Xv2_train['SAG_opp2'],bins_SAG)\n",
    "Xv2_train['SAG_opp3_binned'] = pd.cut(Xv2_train['SAG_opp3'],bins_SAG)\n",
    "\n",
    "#SL\n",
    "bins_SL = pd.IntervalIndex.from_tuples([(-np.inf, 0.8),(0.8, 1.5),(1.5,1.7),(1.7,np.inf)])\n",
    "Xv2_train['SL_team1_binned'] = pd.cut(Xv2_train['SL_team1'],bins_SL)\n",
    "Xv2_train['SL_team2_binned'] = pd.cut(Xv2_train['SL_team2'],bins_SL)\n",
    "Xv2_train['SL_team3_binned'] = pd.cut(Xv2_train['SL_team3'],bins_SL)\n",
    "Xv2_train['SL_opp1_binned'] = pd.cut(Xv2_train['SL_opp1'],bins_SL)\n",
    "Xv2_train['SL_opp2_binned'] = pd.cut(Xv2_train['SL_opp2'],bins_SL)\n",
    "Xv2_train['SL_opp3_binned'] = pd.cut(Xv2_train['SL_opp3'],bins_SL)\n",
    "\n",
    "#SI\n",
    "bins_SI = pd.IntervalIndex.from_tuples([(-np.inf, 2.5), (2.5, 3.0),(3.0, 4.5),(4.5,5.5),(5.5,np.inf)])\n",
    "Xv2_train['SI_team1_binned'] = pd.cut(Xv2_train['SI_team1'],bins_SI)\n",
    "Xv2_train['SI_team2_binned'] = pd.cut(Xv2_train['SI_team2'],bins_SI)\n",
    "Xv2_train['SI_team3_binned'] = pd.cut(Xv2_train['SI_team3'],bins_SI)\n",
    "Xv2_train['SI_opp1_binned'] = pd.cut(Xv2_train['SI_opp1'],bins_SI)\n",
    "Xv2_train['SI_opp2_binned'] = pd.cut(Xv2_train['SI_opp2'],bins_SI)\n",
    "Xv2_train['SI_opp3_binned'] = pd.cut(Xv2_train['SI_opp3'],bins_SI)\n",
    "\n",
    "#i50s\n",
    "bins_i50s = pd.IntervalIndex.from_tuples([(-np.inf, 1.5), (1.5, 1.9),(1.9, 2.5),(2.5,3),(3,np.inf)])\n",
    "Xv2_train['i50s_team1_binned'] = pd.cut(Xv2_train['i50s_team1'],bins_i50s)\n",
    "Xv2_train['i50s_team2_binned'] = pd.cut(Xv2_train['i50s_team2'],bins_i50s)\n",
    "Xv2_train['i50s_team3_binned'] = pd.cut(Xv2_train['i50s_team3'],bins_i50s)\n",
    "Xv2_train['i50s_opp1_binned'] = pd.cut(Xv2_train['i50s_opp1'],bins_i50s)\n",
    "Xv2_train['i50s_opp2_binned'] = pd.cut(Xv2_train['i50s_opp2'],bins_i50s)\n",
    "Xv2_train['i50s_opp3_binned'] = pd.cut(Xv2_train['i50s_opp3'],bins_i50s)\n",
    "\n",
    "#R\n",
    "bins_R = pd.IntervalIndex.from_tuples([(-np.inf, 7.5), (7.5, 8.5),(8.5, 10),(10,12),(12,np.inf)])\n",
    "Xv2_train['R_team1_binned'] = pd.cut(Xv2_train['R_team1'],bins_R)\n",
    "Xv2_train['R_team2_binned'] = pd.cut(Xv2_train['R_team2'],bins_R)\n",
    "Xv2_train['R_team3_binned'] = pd.cut(Xv2_train['R_team3'],bins_R)\n",
    "Xv2_train['R_opp1_binned'] = pd.cut(Xv2_train['R_opp1'],bins_R)\n",
    "Xv2_train['R_opp2_binned'] = pd.cut(Xv2_train['R_opp2'],bins_R)\n",
    "Xv2_train['R_opp3_binned'] = pd.cut(Xv2_train['R_opp3'],bins_R)\n",
    "\n",
    "#G\n",
    "bins_G = pd.IntervalIndex.from_tuples([(-np.inf, 0.25), (0.25, 0.35),(0.35, 0.45),(0.45,0.6),(0.6,np.inf)])\n",
    "Xv2_train['G_team1_binned'] = pd.cut(Xv2_train['G_team1'],bins_G)\n",
    "Xv2_train['G_team2_binned'] = pd.cut(Xv2_train['G_team2'],bins_G)\n",
    "Xv2_train['G_team3_binned'] = pd.cut(Xv2_train['G_team3'],bins_G)\n",
    "Xv2_train['G_opp1_binned'] = pd.cut(Xv2_train['G_opp1'],bins_G)\n",
    "Xv2_train['G_opp2_binned'] = pd.cut(Xv2_train['G_opp2'],bins_G)\n",
    "Xv2_train['G_opp3_binned'] = pd.cut(Xv2_train['G_opp3'],bins_G)\n",
    "\n",
    "#DHPA\n",
    "bins_DHPA = pd.IntervalIndex.from_tuples([(-np.inf, 4.5), (4.5, 5.5),(5.5, 6.5),(6.5,7.5),(7.5,np.inf)])\n",
    "Xv2_train['DHPA_team1_binned'] = pd.cut(Xv2_train['DHPA_team1'],bins_DHPA)\n",
    "Xv2_train['DHPA_team2_binned'] = pd.cut(Xv2_train['DHPA_team2'],bins_DHPA)\n",
    "Xv2_train['DHPA_team3_binned'] = pd.cut(Xv2_train['DHPA_team3'],bins_DHPA)\n",
    "Xv2_train['DHPA_opp1_binned'] = pd.cut(Xv2_train['DHPA_opp1'],bins_DHPA)\n",
    "Xv2_train['DHPA_opp2_binned'] = pd.cut(Xv2_train['DHPA_opp2'],bins_DHPA)\n",
    "Xv2_train['DHPA_opp3_binned'] = pd.cut(Xv2_train['DHPA_opp3'],bins_DHPA)\n",
    "\n",
    "#Mi50\n",
    "bins_Mi50 = pd.IntervalIndex.from_tuples([(-np.inf, 4.5), (4.5, 5.5),(5.5, 6.5),(6.5,7.5),(7.5,np.inf)])\n",
    "Xv2_train['Mi50_team1_binned'] = pd.cut(Xv2_train['Mi50_team1'],bins_Mi50)\n",
    "Xv2_train['Mi50_team2_binned'] = pd.cut(Xv2_train['Mi50_team2'],bins_Mi50)\n",
    "Xv2_train['Mi50_team3_binned'] = pd.cut(Xv2_train['Mi50_team3'],bins_Mi50)\n",
    "Xv2_train['Mi50_opp1_binned'] = pd.cut(Xv2_train['Mi50_opp1'],bins_Mi50)\n",
    "Xv2_train['Mi50_opp2_binned'] = pd.cut(Xv2_train['Mi50_opp2'],bins_Mi50)\n",
    "Xv2_train['Mi50_opp3_binned'] = pd.cut(Xv2_train['Mi50_opp3'],bins_Mi50)"
   ]
  },
  {
   "cell_type": "code",
   "execution_count": null,
   "id": "e57ca3f9",
   "metadata": {},
   "outputs": [],
   "source": [
    "#Join back on the outcome variable\n",
    "Xv2_train = pd.concat([Xv2_train,yv2_train],axis=1)"
   ]
  },
  {
   "cell_type": "markdown",
   "id": "e9f9e23d",
   "metadata": {},
   "source": [
    "## Logistic Regression"
   ]
  },
  {
   "cell_type": "code",
   "execution_count": null,
   "id": "26e65753",
   "metadata": {},
   "outputs": [],
   "source": [
    "#Xv2_train = Xv2_train.drop('Outcome',axis=1)"
   ]
  },
  {
   "cell_type": "code",
   "execution_count": null,
   "id": "2b34feae",
   "metadata": {},
   "outputs": [],
   "source": [
    "import statsmodels.formula.api as smf\n",
    "log_reg = smf.logit(\"Outcome ~ \\\n",
    "SAG_opp3 +\\\n",
    "i50s_team1 + i50s_team3 + Team + Opponent\", data=Xv2_train).fit()"
   ]
  },
  {
   "cell_type": "code",
   "execution_count": null,
   "id": "0431a391",
   "metadata": {},
   "outputs": [],
   "source": [
    "print(log_reg.summary())"
   ]
  },
  {
   "cell_type": "markdown",
   "id": "5933198a",
   "metadata": {},
   "source": [
    "# Training Data"
   ]
  },
  {
   "cell_type": "code",
   "execution_count": null,
   "id": "e2b3e989",
   "metadata": {},
   "outputs": [],
   "source": [
    "ypred = log_reg.predict(Xv2_train)"
   ]
  },
  {
   "cell_type": "code",
   "execution_count": null,
   "id": "f59c7062",
   "metadata": {},
   "outputs": [],
   "source": [
    "from sklearn.metrics import roc_curve,roc_auc_score\n",
    "fpr,tpr, thresholds = roc_curve(yv2_train,ypred)"
   ]
  },
  {
   "cell_type": "code",
   "execution_count": null,
   "id": "ff2100b4",
   "metadata": {},
   "outputs": [],
   "source": [
    "fig,ax = plt.subplots()\n",
    "\n",
    "ax.axline((0,0),slope=1,color='red',linestyle='--')\n",
    "ax.plot(fpr,tpr)\n",
    "ax.set_xlabel('TPR')\n",
    "ax.set_ylabel('FPR')\n",
    "ax.set_title('Training ROC Curve')"
   ]
  },
  {
   "cell_type": "markdown",
   "id": "35d474f0",
   "metadata": {},
   "source": [
    "### ROC SCORE and Gini SCORE"
   ]
  },
  {
   "cell_type": "code",
   "execution_count": null,
   "id": "3e0b4976",
   "metadata": {},
   "outputs": [],
   "source": [
    "AUC = roc_auc_score(yv2_train,ypred)\n",
    "Gini = 2*AUC-1\n",
    "print('ROC AUC: ',AUC*100,'\\nGini: ',Gini*100)"
   ]
  },
  {
   "cell_type": "markdown",
   "id": "1ca8017a",
   "metadata": {},
   "source": [
    "## Test Data"
   ]
  },
  {
   "cell_type": "code",
   "execution_count": null,
   "id": "c306bee6",
   "metadata": {},
   "outputs": [],
   "source": [
    "ypred_test = log_reg.predict(Xv2_test)\n",
    "fpr,tpr, thresholds = roc_curve(yv2_test,ypred_test)"
   ]
  },
  {
   "cell_type": "code",
   "execution_count": null,
   "id": "86dfc9f7",
   "metadata": {},
   "outputs": [],
   "source": [
    "fig,ax = plt.subplots()\n",
    "\n",
    "ax.axline((0,0),slope=1,color='red',linestyle='--')\n",
    "ax.plot(fpr,tpr)\n",
    "ax.set_xlabel('TPR')\n",
    "ax.set_ylabel('FPR')\n",
    "ax.set_title('Test ROC Curve')"
   ]
  },
  {
   "cell_type": "code",
   "execution_count": null,
   "id": "9678e57b",
   "metadata": {},
   "outputs": [],
   "source": [
    "AUC = roc_auc_score(yv2_test,ypred_test)\n",
    "Gini = 2*AUC-1\n",
    "print('ROC AUC: ',AUC*100,'\\nGini: ',Gini*100)"
   ]
  },
  {
   "cell_type": "markdown",
   "id": "189c40b1",
   "metadata": {},
   "source": [
    "## Out of Time Data"
   ]
  },
  {
   "cell_type": "code",
   "execution_count": null,
   "id": "482bb0f4",
   "metadata": {},
   "outputs": [],
   "source": [
    "y_pred_OOT = log_reg.predict(df_matches_v3_OOT)\n",
    "y_OOT = df_matches_v3_OOT['Outcome']\n",
    "fpr,tpr, thresholds = roc_curve(y_OOT,y_pred_OOT)"
   ]
  },
  {
   "cell_type": "code",
   "execution_count": null,
   "id": "1cc839e9",
   "metadata": {},
   "outputs": [],
   "source": [
    "fig,ax = plt.subplots()\n",
    "\n",
    "ax.axline((0,0),slope=1,color='red',linestyle='--')\n",
    "ax.plot(fpr,tpr)\n",
    "ax.set_xlabel('TPR')\n",
    "ax.set_ylabel('FPR')\n",
    "ax.set_title('Test ROC Curve')"
   ]
  },
  {
   "cell_type": "code",
   "execution_count": null,
   "id": "619eb280",
   "metadata": {},
   "outputs": [],
   "source": [
    "AUC = roc_auc_score(y_OOT,y_pred_OOT)\n",
    "Gini = 2*AUC-1\n",
    "print('ROC AUC: ',AUC*100,'\\nGini: ',Gini*100)"
   ]
  },
  {
   "cell_type": "code",
   "execution_count": null,
   "id": "878ed240",
   "metadata": {},
   "outputs": [],
   "source": []
  }
 ],
 "metadata": {
  "kernelspec": {
   "display_name": "afl_env",
   "language": "python",
   "name": "afl_env"
  },
  "language_info": {
   "codemirror_mode": {
    "name": "ipython",
    "version": 3
   },
   "file_extension": ".py",
   "mimetype": "text/x-python",
   "name": "python",
   "nbconvert_exporter": "python",
   "pygments_lexer": "ipython3",
   "version": "3.8.18"
  }
 },
 "nbformat": 4,
 "nbformat_minor": 5
}
